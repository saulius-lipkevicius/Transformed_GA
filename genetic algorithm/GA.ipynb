{
 "cells": [
  {
   "cell_type": "code",
   "execution_count": null,
   "source": [
    "import pandas as pd\r\n",
    "import breeder.py #for GA\r\n",
    "import DataLouder #data segregation\r\n",
    "\r\n",
    "#to import NN\r\n",
    "import torch\r\n",
    "import torch.nn as nn\r\n",
    "import torch.optim as optim"
   ],
   "outputs": [],
   "metadata": {}
  },
  {
   "cell_type": "markdown",
   "source": [
    "Stage I\r\n",
    "Upload data"
   ],
   "metadata": {}
  },
  {
   "cell_type": "code",
   "execution_count": null,
   "source": [
    "#CSV file path to top aptamers after MAWS\r\n",
    "path_data = './datasets/postMAWS.csv'\r\n",
    "\r\n",
    "df_data = pd.read_csv(path_data)"
   ],
   "outputs": [],
   "metadata": {}
  },
  {
   "cell_type": "markdown",
   "source": [
    "Stage II\r\n",
    "Load model and create a DataLouder for latter GA"
   ],
   "metadata": {}
  },
  {
   "cell_type": "code",
   "execution_count": null,
   "source": [
    "class Net(nn.Module):\r\n",
    "    def __init__(self):\r\n",
    "        super(Net, self).__init__()\r\n",
    "        self.conv1 = nn.Conv2d(3, 6, 5)\r\n",
    "        self.pool = nn.MaxPool2d(2, 2)\r\n",
    "        self.conv2 = nn.Conv2d(6, 16, 5)\r\n",
    "        self.fc1 = nn.Linear(16 * 5 * 5, 120)\r\n",
    "        self.fc2 = nn.Linear(120, 84)\r\n",
    "        self.fc3 = nn.Linear(84, 10)\r\n",
    "\r\n",
    "    def forward(self, x):\r\n",
    "        x = self.pool(F.relu(self.conv1(x)))\r\n",
    "        x = self.pool(F.relu(self.conv2(x)))\r\n",
    "        x = x.view(-1, 16 * 5 * 5)\r\n",
    "        x = F.relu(self.fc1(x))\r\n",
    "        x = F.relu(self.fc2(x))\r\n",
    "        x = self.fc3(x)\r\n",
    "        return x\r\n",
    "\r\n",
    "net = Net()\r\n",
    "optimizer = optim.SGD(net.parameters(), lr=0.001, momentum=0.9)\r\n",
    "\r\n",
    "#  Specify a path\r\n",
    "PATH = \"state_dict_model.pt\"\r\n",
    "\r\n",
    "#  Load\r\n",
    "model = Net()\r\n",
    "model.load_state_dict(torch.load(PATH))\r\n",
    "model.eval()"
   ],
   "outputs": [],
   "metadata": {}
  },
  {
   "cell_type": "code",
   "execution_count": null,
   "source": [
    "def loadAptamers(dataframe):\r\n",
    "    #  Can call CustomeDataset to custome our dataset in case it is not normalized\r\n",
    "    data = DataLouder(dataframe)"
   ],
   "outputs": [],
   "metadata": {}
  },
  {
   "cell_type": "markdown",
   "source": [
    "Stage III\r\n",
    "Apply Genetic Algorithm to generate new population of aptamers"
   ],
   "metadata": {}
  },
  {
   "cell_type": "code",
   "execution_count": null,
   "source": [
    "def run_GA(dataframe):\r\n",
    "\r\n",
    "    #  Generate N aptamers to have the same 1000 as before deleting inferior\r\n",
    "    data_1k = breeder(dataframe, max_len=1000, **args)\r\n",
    "    #write results somewhere\r\n",
    "\r\n",
    "    #  Pair up new batch\r\n",
    "    data_paired = pairing(data_1k)\r\n",
    "\r\n",
    "    #  Call alBERT to compare goodness of sequences\r\n",
    "    model.eval()\r\n",
    "    data_toModel = DataLouder(data_paired)\r\n",
    "    model(data_pair)\r\n",
    "\r\n",
    "    #  Take models output\r\n",
    "    data_compared = pd.read_csv(./results/output.csv) #path is irrelevant now\r\n",
    "    #write results somewhere\r\n",
    "\r\n",
    "    #  Find dominating aptamers and go to step 1 again.\r\n",
    "    data_100 = dominance_score(data_compared)\r\n",
    "    #write results to csv"
   ],
   "outputs": [],
   "metadata": {}
  },
  {
   "cell_type": "markdown",
   "source": [
    "We have to determine some conditions to stop while loop and GA"
   ],
   "metadata": {}
  },
  {
   "cell_type": "code",
   "execution_count": null,
   "source": [
    "data = pd.read_\r\n",
    "\r\n",
    "while true:\r\n",
    "    run_GA(df_data)"
   ],
   "outputs": [],
   "metadata": {}
  }
 ],
 "metadata": {
  "orig_nbformat": 4,
  "language_info": {
   "name": "python",
   "version": "3.8.10"
  },
  "kernelspec": {
   "name": "python3",
   "display_name": "Python 3.8.10 64-bit (windows store)"
  },
  "interpreter": {
   "hash": "3aee3b0eb6142d763d7754525c5291c780d2cfe01d72d8f6b94276ca950be07b"
  }
 },
 "nbformat": 4,
 "nbformat_minor": 2
}