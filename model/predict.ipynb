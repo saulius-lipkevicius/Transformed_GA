{
 "cells": [
  {
   "cell_type": "code",
   "execution_count": null,
   "source": [
    "import torch\r\n",
    "import torch.nn as nn\r\n",
    "import torch.onnx\r\n",
    "import os\r\n",
    "import torch.optim as optim\r\n",
    "import random\r\n",
    "import numpy as np\r\n",
    "import pandas as pd\r\n",
    "import ruamel.yaml\r\n",
    "from torch.utils.data import DataLoader, Dataset\r\n",
    "from tqdm import tqdm\r\n",
    "from transformers import AutoTokenizer, AutoModel\r\n",
    "import transformers\r\n",
    "import logging\r\n",
    "from transformers import logging\r\n",
    "\r\n",
    "logging.set_verbosity_error() #  to skip errors"
   ],
   "outputs": [],
   "metadata": {}
  },
  {
   "cell_type": "code",
   "execution_count": null,
   "source": [
    "from ipynb.fs.full.model_train import *\r\n",
    "\r\n",
    "bert_model = config['Model']['bert_model']\r\n",
    "maxlen = config['Model']['model']\r\n",
    "bs = config['Model']['batch_size']"
   ],
   "outputs": [],
   "metadata": {}
  },
  {
   "cell_type": "code",
   "execution_count": null,
   "source": [
    "device = torch.device(\"cuda:0\" if torch.cuda.is_available() else \"cpu\")\r\n",
    "\r\n",
    "print(\"Reading test data...\")\r\n",
    "test_set = CustomDataset(df_test, maxlen, bert_model)\r\n",
    "test_loader = DataLoader(test_set, batch_size=bs, num_workers=4)\r\n",
    "\r\n",
    "model = Model(bert_model)\r\n",
    "if torch.cuda.device_count() > 1:  # if multiple GPUs\r\n",
    "    print(\"Let's use\", torch.cuda.device_count(), \"GPUs!\")\r\n",
    "    model = nn.DataParallel(model)\r\n",
    "\r\n",
    "print()\r\n",
    "print(\"Loading the weights of the model...\")\r\n",
    "model.load_state_dict(torch.load(config['Random']['path_to_model']))\r\n",
    "model.to(device)"
   ],
   "outputs": [],
   "metadata": {}
  },
  {
   "cell_type": "code",
   "execution_count": null,
   "source": [
    "df_test = \"\"  #  database you want to predict \r\n",
    "\r\n",
    "print(\"Predicting on test data...\")\r\n",
    "test_prediction(net=model\r\n",
    "                , device=device\r\n",
    "                , dataloader=test_loader\r\n",
    "                , aptamerDataFrame=df_test\r\n",
    "                , with_labels = True)\r\n",
    "#prideti galima pasirinkima printinti ar tiesiog pateikti i csv\r\n",
    "\r\n",
    "print()\r\n",
    "print(\"Predictions are available in : {}\".format(config['Random']['path_to_model_test']))"
   ],
   "outputs": [],
   "metadata": {}
  }
 ],
 "metadata": {
  "orig_nbformat": 4,
  "language_info": {
   "name": "python"
  }
 },
 "nbformat": 4,
 "nbformat_minor": 2
}