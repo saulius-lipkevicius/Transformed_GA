{
 "cells": [
  {
   "cell_type": "markdown",
   "source": [
    "# ALBERT for aptamer-pair classification"
   ],
   "metadata": {
    "id": "TuLR0BMJhIub"
   }
  },
  {
   "cell_type": "markdown",
   "source": [
    "## Set dependancies"
   ],
   "metadata": {}
  },
  {
   "cell_type": "code",
   "execution_count": 1,
   "source": [
    "import torch\n",
    "torch.cuda.is_available()"
   ],
   "outputs": [
    {
     "output_type": "execute_result",
     "data": {
      "text/plain": [
       "True"
      ]
     },
     "metadata": {},
     "execution_count": 1
    }
   ],
   "metadata": {}
  },
  {
   "cell_type": "code",
   "execution_count": 2,
   "source": [
    "import torch\n",
    "import torch.nn as nn\n",
    "import torch.onnx\n",
    "import os\n",
    "import matplotlib.pyplot as plt\n",
    "import copy\n",
    "import torch.optim as optim\n",
    "import random\n",
    "import numpy as np\n",
    "import pandas as pd\n",
    "import ruamel.yaml\n",
    "from torch.utils.data import DataLoader, Dataset\n",
    "from torch.cuda.amp import autocast, GradScaler\n",
    "from tqdm import tqdm\n",
    "from transformers import AutoTokenizer, AutoModel, AdamW, get_linear_schedule_with_warmup\n",
    "import transformers\n",
    "import logging\n",
    "transformers.logging.get_verbosity = lambda: logging.NOTSET\n",
    "\n",
    "os.environ[\"TOKENIZERS_PARALLELISM\"] = \"false\"\n",
    "config_name = 'config.yaml'"
   ],
   "outputs": [],
   "metadata": {}
  },
  {
   "cell_type": "markdown",
   "source": [
    "## Load your dataset"
   ],
   "metadata": {
    "id": "lpKx43Iq6znw"
   }
  },
  {
   "cell_type": "code",
   "execution_count": 3,
   "source": [
    "with open(config_name, 'r') as stream:\n",
    "    try:\n",
    "        yaml = ruamel.yaml.YAML()\n",
    "        config = yaml.load(stream)\n",
    "    except yaml.YAMLError as exc:\n",
    "        print(exc)"
   ],
   "outputs": [],
   "metadata": {}
  },
  {
   "cell_type": "code",
   "execution_count": 4,
   "source": [
    "path_to_train_data = config['Datasets']['train']\n",
    "path_to_val_data = config['Datasets']['val']\n",
    "path_to_test_data = config['Datasets']['test']\n",
    "\n",
    "\n",
    "df_train = pd.read_csv(path_to_train_data)\n",
    "df_val = pd.read_csv(path_to_val_data)\n",
    "df_test = pd.read_csv(path_to_test_data)"
   ],
   "outputs": [],
   "metadata": {}
  },
  {
   "cell_type": "code",
   "execution_count": 5,
   "source": [
    "print(df_train.shape, df_val.shape, df_test.shape)"
   ],
   "outputs": [
    {
     "output_type": "stream",
     "name": "stdout",
     "text": [
      "(899400, 3) (112425, 3) (112425, 3)\n"
     ]
    }
   ],
   "metadata": {
    "colab": {
     "base_uri": "https://localhost:8080/"
    },
    "id": "nNs2FWNJSLSq",
    "outputId": "62dc686d-df2e-4c6d-97f1-b17f81d238ad"
   }
  },
  {
   "cell_type": "code",
   "execution_count": 6,
   "source": [
    "df_train.head()"
   ],
   "outputs": [
    {
     "output_type": "execute_result",
     "data": {
      "text/html": [
       "<div>\n",
       "<style scoped>\n",
       "    .dataframe tbody tr th:only-of-type {\n",
       "        vertical-align: middle;\n",
       "    }\n",
       "\n",
       "    .dataframe tbody tr th {\n",
       "        vertical-align: top;\n",
       "    }\n",
       "\n",
       "    .dataframe thead th {\n",
       "        text-align: right;\n",
       "    }\n",
       "</style>\n",
       "<table border=\"1\" class=\"dataframe\">\n",
       "  <thead>\n",
       "    <tr style=\"text-align: right;\">\n",
       "      <th></th>\n",
       "      <th>Sequence1</th>\n",
       "      <th>Sequence2</th>\n",
       "      <th>Label</th>\n",
       "    </tr>\n",
       "  </thead>\n",
       "  <tbody>\n",
       "    <tr>\n",
       "      <th>0</th>\n",
       "      <td>GCGGTAACCGGTGCT</td>\n",
       "      <td>GGAGAACAACAACTT</td>\n",
       "      <td>0</td>\n",
       "    </tr>\n",
       "    <tr>\n",
       "      <th>1</th>\n",
       "      <td>ATCAGATACTATGCG</td>\n",
       "      <td>TACAGAACTAGCAGG</td>\n",
       "      <td>0</td>\n",
       "    </tr>\n",
       "    <tr>\n",
       "      <th>2</th>\n",
       "      <td>AGAGTGCCCTGTCCC</td>\n",
       "      <td>ATCTGCTAACCAGTC</td>\n",
       "      <td>0</td>\n",
       "    </tr>\n",
       "    <tr>\n",
       "      <th>3</th>\n",
       "      <td>ATTCCCAAGCTGCGA</td>\n",
       "      <td>GTACCCGGGATGTTA</td>\n",
       "      <td>0</td>\n",
       "    </tr>\n",
       "    <tr>\n",
       "      <th>4</th>\n",
       "      <td>GCGAGCTCATGCACA</td>\n",
       "      <td>GGGCGCCATAGTTCG</td>\n",
       "      <td>0</td>\n",
       "    </tr>\n",
       "  </tbody>\n",
       "</table>\n",
       "</div>"
      ],
      "text/plain": [
       "         Sequence1        Sequence2  Label\n",
       "0  GCGGTAACCGGTGCT  GGAGAACAACAACTT      0\n",
       "1  ATCAGATACTATGCG  TACAGAACTAGCAGG      0\n",
       "2  AGAGTGCCCTGTCCC  ATCTGCTAACCAGTC      0\n",
       "3  ATTCCCAAGCTGCGA  GTACCCGGGATGTTA      0\n",
       "4  GCGAGCTCATGCACA  GGGCGCCATAGTTCG      0"
      ]
     },
     "metadata": {},
     "execution_count": 6
    }
   ],
   "metadata": {
    "colab": {
     "base_uri": "https://localhost:8080/",
     "height": 206
    },
    "id": "irj7itV0UCF_",
    "outputId": "a648d128-a509-4cf7-8b27-7474d83a50dd"
   }
  },
  {
   "cell_type": "markdown",
   "source": [
    "## Classes and functions"
   ],
   "metadata": {
    "id": "TWJfh6DV7CB5"
   }
  },
  {
   "cell_type": "code",
   "execution_count": 7,
   "source": [
    "class CustomDataset(Dataset):\n",
    "\n",
    "    def __init__(self, data, maxlen, with_labels=True, bert_model='albert-base-v2'):\n",
    "        self.data = data  # pandas dataframe\n",
    "        self.tokenizer = AutoTokenizer.from_pretrained(bert_model, return_dict=False)  \n",
    "        self.maxlen = maxlen\n",
    "        self.with_labels = with_labels \n",
    "\n",
    "    def __len__(self):\n",
    "        return len(self.data)\n",
    "\n",
    "    def __getitem__(self, index):\n",
    "        sent1 = str(self.data.loc[index, 'Sequence1'])\n",
    "        sent2 = str(self.data.loc[index, 'Sequence2'])\n",
    "\n",
    "        # Tokenize the pair of sentences to get token ids, attention masks and token type ids\n",
    "        encoded_pair = self.tokenizer(sent1, sent2, \n",
    "                                      padding='max_length',  # Pad to max_length\n",
    "                                      truncation=True,  # Truncate to max_length\n",
    "                                      max_length=self.maxlen,  \n",
    "                                      return_tensors='pt')  # Return torch.Tensor objects\n",
    "        \n",
    "        token_ids = encoded_pair['input_ids'].squeeze(0)  # tensor of token ids\n",
    "        attn_masks = encoded_pair['attention_mask'].squeeze(0)  # binary tensor with \"0\" for padded values and \"1\" for the other values\n",
    "        token_type_ids = encoded_pair['token_type_ids'].squeeze(0)  # binary tensor with \"0\" for the 1st sentence tokens & \"1\" for the 2nd sentence tokens\n",
    "\n",
    "        if self.with_labels:  # True if the dataset has labels\n",
    "            label = self.data.loc[index, 'Label']\n",
    "            return token_ids, attn_masks, token_type_ids, label  \n",
    "        else:\n",
    "            return token_ids, attn_masks, token_type_ids"
   ],
   "outputs": [],
   "metadata": {
    "id": "Tc1GQh7yEm4C"
   }
  },
  {
   "cell_type": "code",
   "execution_count": 8,
   "source": [
    "class Model(nn.Module):\n",
    "\n",
    "    def __init__(self, bert_model=\"albert-base-v2\", freeze_bert=False):\n",
    "        super(Model, self).__init__()\n",
    "        self.bert_layer = AutoModel.from_pretrained(bert_model, return_dict=False)\n",
    "\n",
    "        #  Fix the hidden-state size of the encoder outputs\n",
    "        #  More information can be found https://huggingface.co/transformers/pretrained_models.html\n",
    "        hidden_size = config['Model']['hidden_size']\n",
    "\n",
    "        # Freeze bert layers and only train the classification layer weights\n",
    "        if freeze_bert:\n",
    "            for p in self.bert_layer.parameters():\n",
    "                p.requires_grad = False\n",
    "\n",
    "        # Classification layer\n",
    "        self.cls_layer = nn.Linear(hidden_size, config['Model']['number_labels'])\n",
    "        self.dropout = nn.Dropout(p=config['Model']['dropout_rate'])\n",
    "\n",
    "    @autocast()  # run in mixed precision\n",
    "    def forward(self, input_ids, attn_masks, token_type_ids):\n",
    "        '''\n",
    "        Inputs:\n",
    "            -input_ids : Tensor  containing token ids\n",
    "            -attn_masks : Tensor containing attention masks to be used to focus on non-padded values\n",
    "            -token_type_ids : Tensor containing token type ids to be used to identify sentence1 and sentence2\n",
    "        '''\n",
    "\n",
    "        # Feeding the inputs to the BERT-based model to obtain contextualized representations\n",
    "        cont_reps, pooler_output = self.bert_layer(input_ids, attn_masks, token_type_ids)\n",
    "\n",
    "        # Feeding to the classifier layer the last layer hidden-state of the [CLS] token further processed by a\n",
    "        # Linear Layer and a Tanh activation. The Linear layer weights were trained from the sentence order prediction (ALBERT) or next sentence prediction (BERT)\n",
    "        # objective during pre-training.\n",
    "        logits = self.cls_layer(self.dropout(pooler_output))\n",
    "\n",
    "        return logits"
   ],
   "outputs": [],
   "metadata": {}
  },
  {
   "cell_type": "code",
   "execution_count": 9,
   "source": [
    "#seed to make results reproducible\r\n",
    "def set_seed(seed):\r\n",
    "    \"\"\" Set all seeds to make results reproducible \"\"\"\r\n",
    "    torch.manual_seed(seed)\r\n",
    "    torch.cuda.manual_seed_all(seed)\r\n",
    "    torch.backends.cudnn.deterministic = True\r\n",
    "    torch.backends.cudnn.benchmark = False\r\n",
    "    np.random.seed(seed)\r\n",
    "    random.seed(seed)\r\n",
    "    os.environ['PYTHONHASHSEED'] = str(seed)\r\n",
    "    \r\n",
    "\r\n",
    "def evaluate_loss(net, device, criterion, dataloader):\r\n",
    "    net.eval()\r\n",
    "\r\n",
    "    mean_loss = 0\r\n",
    "    count = 0\r\n",
    "\r\n",
    "    with torch.no_grad():\r\n",
    "        for it, (seq, attn_masks, token_type_ids, labels) in enumerate(tqdm(dataloader)):\r\n",
    "            seq, attn_masks, token_type_ids, labels = \\\r\n",
    "                seq.to(device), attn_masks.to(device), token_type_ids.to(device), labels.to(device)\r\n",
    "            logits = net(seq, attn_masks, token_type_ids)\r\n",
    "            mean_loss += criterion(logits.squeeze(-1), labels.float()).item()\r\n",
    "            count += 1\r\n",
    "\r\n",
    "    return mean_loss / count"
   ],
   "outputs": [],
   "metadata": {
    "id": "5SrSNNYTjwe8"
   }
  },
  {
   "cell_type": "code",
   "execution_count": 10,
   "source": [
    "def train_bert(net, criterion, opti, lr, lr_scheduler, train_loader, val_loader, epochs, iters_to_accumulate):\r\n",
    "\r\n",
    "    best_loss = np.Inf\r\n",
    "    nb_iterations = len(train_loader)\r\n",
    "    print_every = nb_iterations // config['Random']['print_every']  # print the training loss 5 times per epoch\r\n",
    "    scaler = GradScaler()\r\n",
    "    \r\n",
    "    iters = []\r\n",
    "    train_losses = []\r\n",
    "    val_losses = []\r\n",
    "\r\n",
    "    for ep in range(epochs):\r\n",
    "\r\n",
    "        net.train()\r\n",
    "        running_loss = 0.0\r\n",
    "        for it, (seq, attn_masks, token_type_ids, labels) in enumerate(tqdm(train_loader)):\r\n",
    "\r\n",
    "            # Converting to cuda tensors\r\n",
    "            seq, attn_masks, token_type_ids, labels = \\\r\n",
    "                seq.to(device), attn_masks.to(device), token_type_ids.to(device), labels.to(device)\r\n",
    "    \r\n",
    "            # Enables autocasting for the forward pass (model + loss)\r\n",
    "            with autocast():\r\n",
    "                # Obtaining the logits from the model\r\n",
    "                logits = net(seq, attn_masks, token_type_ids)\r\n",
    "\r\n",
    "                # Computing loss\r\n",
    "                loss = criterion(logits.squeeze(-1), labels.float())\r\n",
    "                loss = loss / iters_to_accumulate  # Normalize the loss because it is averaged\r\n",
    "\r\n",
    "            # Backpropagating the gradients\r\n",
    "            # Scales loss.  Calls backward() on scaled loss to create scaled gradients.\r\n",
    "            scaler.scale(loss).backward()\r\n",
    "\r\n",
    "            if (it + 1) % iters_to_accumulate == 0:\r\n",
    "                # Optimization step\r\n",
    "                # scaler.step() first unscales the gradients of the optimizer's assigned params.\r\n",
    "                # If these gradients do not contain infs or NaNs, opti.step() is then called,\r\n",
    "                # otherwise, opti.step() is skipped.\r\n",
    "                scaler.step(opti)\r\n",
    "                # Updates the scale for next iteration.\r\n",
    "                scaler.update()\r\n",
    "                # Adjust the learning rate based on the number of iterations.\r\n",
    "                lr_scheduler.step()\r\n",
    "                # Clear gradients\r\n",
    "                opti.zero_grad()\r\n",
    "\r\n",
    "\r\n",
    "            running_loss += loss.item()\r\n",
    "\r\n",
    "            if (it + 1) % print_every == 0:  # Print training loss information\r\n",
    "                print()\r\n",
    "                print(\"Iteration {}/{} of epoch {} complete. Loss : {} \"\r\n",
    "                      .format(it+1, nb_iterations, ep+1, running_loss / print_every))\r\n",
    "                \r\n",
    "                train_losses.append(running_loss/print_every)\r\n",
    "                running_loss = 0.0\r\n",
    "\r\n",
    "\r\n",
    "        val_loss = evaluate_loss(net, device, criterion, val_loader)  # Compute validation loss\r\n",
    "        val_losses.append(val_loss)\r\n",
    "        \r\n",
    "        print()\r\n",
    "        print(\"Epoch {} complete! Validation Loss : {}\".format(ep+1, val_loss))\r\n",
    "\r\n",
    "        if val_loss < best_loss:\r\n",
    "            print(\"Best validation loss improved from {} to {}\".format(best_loss, val_loss))\r\n",
    "            print()\r\n",
    "            net_copy = copy.deepcopy(net)  # save a copy of the model\r\n",
    "            best_loss = val_loss\r\n",
    "        \r\n",
    "        \r\n",
    "    \r\n",
    "    # Saving the model\r\n",
    "    path_to_model='model/{}_{}_{}.pt'.format(bert_model, lr, round(best_loss, 4))\r\n",
    "    path_to_model_evaluation = './datasets/model_validation/{}_{}_{}.csv'.format(bert_model, lr, round(best_loss, 4))\r\n",
    "    path_to_model_test = './datasets/model_validation/pred-{}_{}_{}.csv'.format(bert_model, lr, round(best_loss, 4))\r\n",
    "    \r\n",
    "    #  Following val/test losses to graph it later\r\n",
    "    model_training = './datasets/model_validation/{}_{}_{}_training.csv'.format(bert_model, lr, round(best_loss, 4))\r\n",
    "    losses = pd.DataFrame({'Train loss': train_losses, 'Val loss': val_losses})\r\n",
    "    losses.to_csv(model_training)\r\n",
    "    \r\n",
    "    config['Random']['path_to_model'] = path_to_model\r\n",
    "    config['Random']['path_to_model_evaluation'] = path_to_model_evaluation\r\n",
    "    config['Random']['path_to_model_test'] = path_to_model_test\r\n",
    "\r\n",
    "    torch.save(net_copy.state_dict(), path_to_model)\r\n",
    "    print(\"The model has been saved in {}\".format(path_to_model))\r\n",
    "\r\n",
    "    del loss\r\n",
    "    torch.cuda.empty_cache()"
   ],
   "outputs": [],
   "metadata": {
    "id": "I-o6KyaFkU5u"
   }
  },
  {
   "cell_type": "markdown",
   "source": [
    "## Hyperparameters for training"
   ],
   "metadata": {
    "id": "WFy9kQ2-SvQ2"
   }
  },
  {
   "cell_type": "code",
   "execution_count": 11,
   "source": [
    "bert_model = config['Model']['bert_model']  # any of previously defined BERT alternatives :'albert-base-v2', 'albert-large-v2', 'albert-xlarge-v2', 'albert-xxlarge-v2' and others\r\n",
    "freeze_bert = config['Model']['freeze_bert']  # if True, freeze the encoder weights and only update the classification layer weights\r\n",
    "maxlen = config['Model']['max_len']        # maximum length of the tokenized input sentence pair : if greater than \"maxlen\", the input is truncated and else if smaller, the input is padded\r\n",
    "bs = config['Model']['batch_size']                # batch size\r\n",
    "iters_to_accumulate = config['Model']['iters_to_accumulate']  # the gradient accumulation adds gradients over an effective batch of size : bs * iters_to_accumulate. If set to \"1\", you get the usual batch size\r\n",
    "lr = config['Model']['learning_rate']                # learning rate\r\n",
    "epochs = config['Model']['epochs']             # number of training epochs"
   ],
   "outputs": [],
   "metadata": {}
  },
  {
   "cell_type": "markdown",
   "source": [
    "nb_iterations = len(train_loader)## Training"
   ],
   "metadata": {
    "id": "y_abThXlSr6n",
    "tags": []
   }
  },
  {
   "cell_type": "code",
   "execution_count": 18,
   "source": [
    "#  Set all seeds to make reproducible results\r\n",
    "set_seed(2)\r\n",
    " \r\n",
    "# Creating instances of training and validation set\r\n",
    "print(\"Reading training data...\")\r\n",
    "train_set = CustomDataset(df_train, maxlen, bert_model)\r\n",
    "print(\"Reading validation data...\")\r\n",
    "val_set = CustomDataset(df_val, maxlen, bert_model)\r\n",
    "# Creating instances of training and validation dataloaders\r\n",
    "train_loader = DataLoader(train_set, batch_size=bs, num_workers=2)\r\n",
    "val_loader = DataLoader(val_set, batch_size=bs, num_workers=2)\r\n",
    " \r\n",
    " \r\n",
    "device = torch.device(\"cuda:0\" if torch.cuda.is_available() else \"cpu\")\r\n",
    "net = Model(bert_model, freeze_bert=freeze_bert)\r\n",
    "\r\n",
    "if torch.cuda.device_count() > 1:  # if multiple GPUs\r\n",
    "    print(\"Let's use\", torch.cuda.device_count(), \"GPUs!\")\r\n",
    "    net = nn.DataParallel(net)\r\n",
    "\r\n",
    "net.to(device)\r\n",
    "   \r\n",
    "criterion = nn.BCEWithLogitsLoss()\r\n",
    "opti = AdamW(net.parameters(), lr=lr, weight_decay=1e-2)\r\n",
    "num_warmup_steps = config['Model']['num_warmup_steps'] # The number of steps for the warmup phase.\r\n",
    "num_training_steps = epochs * len(train_loader)  # The total number of training steps\r\n",
    "t_total = (len(train_loader) // iters_to_accumulate) * epochs  # Necessary to take into account Gradient accumulation\r\n",
    "lr_scheduler = get_linear_schedule_with_warmup(optimizer=opti, num_warmup_steps=num_warmup_steps, num_training_steps=t_total)\r\n",
    "                         \r\n",
    "#train_bert(net, criterion, opti, lr, lr_scheduler, train_loader, val_loader, epochs, iters_to_accumulate)\r\n",
    "\r\n",
    "with open('config.yaml', 'w') as conf:\r\n",
    "    yaml.dump(config, conf)"
   ],
   "outputs": [
    {
     "output_type": "stream",
     "name": "stdout",
     "text": [
      "Reading training data...\n",
      "Reading validation data...\n"
     ]
    },
    {
     "output_type": "stream",
     "name": "stderr",
     "text": [
      "Some weights of the model checkpoint at albert-base-v2 were not used when initializing AlbertModel: ['predictions.dense.weight', 'predictions.LayerNorm.weight', 'predictions.LayerNorm.bias', 'predictions.decoder.bias', 'predictions.dense.bias', 'predictions.bias', 'predictions.decoder.weight']\n",
      "- This IS expected if you are initializing AlbertModel from the checkpoint of a model trained on another task or with another architecture (e.g. initializing a BertForSequenceClassification model from a BertForPreTraining model).\n",
      "- This IS NOT expected if you are initializing AlbertModel from the checkpoint of a model that you expect to be exactly identical (initializing a BertForSequenceClassification model from a BertForSequenceClassification model).\n"
     ]
    }
   ],
   "metadata": {
    "scrolled": true,
    "tags": []
   }
  },
  {
   "cell_type": "markdown",
   "source": [
    "Plot training losses"
   ],
   "metadata": {}
  },
  {
   "cell_type": "markdown",
   "source": [
    "# Prediction"
   ],
   "metadata": {}
  },
  {
   "cell_type": "code",
   "execution_count": 25,
   "source": [
    "#!kill -9 -1 #in case you have to kill the process"
   ],
   "outputs": [
    {
     "output_type": "execute_result",
     "data": {
      "text/plain": [
       "(1000, 3)"
      ]
     },
     "metadata": {},
     "execution_count": 25
    }
   ],
   "metadata": {
    "id": "qZXAwn0zqTuc"
   }
  },
  {
   "cell_type": "code",
   "execution_count": 16,
   "source": [
    "def get_probs_from_logits(logits):\r\n",
    "    \"\"\"\r\n",
    "    Converts a tensor of logits into an array of probabilities by applying the sigmoid function\r\n",
    "    \"\"\"\r\n",
    "    probs = torch.sigmoid(logits.unsqueeze(-1))\r\n",
    "    return probs.detach().cpu().numpy()\r\n",
    "\r\n",
    "\r\n",
    "def test_prediction(net, device, aptamerDataFrame, dataloader, with_labels, result_path=config['Random']['path_to_model_test']):\r\n",
    "    \"\"\"\r\n",
    "    Predict the probabilities on a dataset with or without labels and print the result in a file\r\n",
    "    \"\"\"\r\n",
    "    net.eval()\r\n",
    "    probs_all = []\r\n",
    "    nb_iterations = len(dataloader)\r\n",
    "    \r\n",
    "    with torch.no_grad():\r\n",
    "        if with_labels:\r\n",
    "            for it, (seq, attn_masks, token_type_ids, label) in enumerate(tqdm(dataloader)):\r\n",
    "                seq, attn_masks, token_type_ids = seq.to(device), attn_masks.to(device), token_type_ids.to(device)\r\n",
    "                logits = net(seq, attn_masks, token_type_ids)\r\n",
    "                probs = get_probs_from_logits(logits.squeeze(-1)).squeeze(-1)\r\n",
    "                probs_all += probs.tolist()\r\n",
    "                \r\n",
    "        else:\r\n",
    "            for it, (seq, attn_masks, token_type_ids, token_ids) in enumerate(tqdm(dataloader)):\r\n",
    "                seq, attn_masks, token_type_ids = seq.to(device), attn_masks.to(device), token_type_ids.to(device)\r\n",
    "                logits = net(seq, attn_masks, token_type_ids)\r\n",
    "                probs = get_probs_from_logits(logits.squeeze(-1)).squeeze(-1)\r\n",
    "                probs_all += probs.tolist()\r\n",
    "            \r\n",
    "    y_hat = [round(x) for x in probs_all]     \r\n",
    "    df2 = pd.DataFrame({'y_hat': y_hat, 'prob': probs_all})\r\n",
    "    df = pd.concat([aptamerDataFrame, df2], axis=1)\r\n",
    "    df.to_csv(result_path)\r\n"
   ],
   "outputs": [],
   "metadata": {
    "id": "m3r8_npVf30D"
   }
  },
  {
   "cell_type": "code",
   "execution_count": 19,
   "source": [
    "device = torch.device(\"cuda:0\" if torch.cuda.is_available() else \"cpu\")\r\n",
    "\r\n",
    "print(\"Reading test data...\")\r\n",
    "test_set = CustomDataset(df_test, maxlen, bert_model)\r\n",
    "test_loader = DataLoader(test_set, batch_size=bs, num_workers=4)\r\n",
    "\r\n",
    "model = Model(bert_model)\r\n",
    "if torch.cuda.device_count() > 1:  # if multiple GPUs\r\n",
    "    print(\"Let's use\", torch.cuda.device_count(), \"GPUs!\")\r\n",
    "    model = nn.DataParallel(model)\r\n",
    "\r\n",
    "print()\r\n",
    "print(\"Loading the weights of the model...\")\r\n",
    "model.load_state_dict(torch.load(config['Random']['path_to_model']))\r\n",
    "model.to(device)\r\n",
    "\r\n",
    "print(\"Predicting on test data...\")\r\n",
    "test_prediction(net=model\r\n",
    "                , device=device\r\n",
    "                , dataloader=test_loader\r\n",
    "                , aptamerDataFrame=df_test\r\n",
    "                , with_labels = True)\r\n",
    "\r\n",
    "print()\r\n",
    "print(\"Predictions are available in : {}\".format(config['Random']['path_to_model_test']))"
   ],
   "outputs": [
    {
     "output_type": "stream",
     "name": "stdout",
     "text": [
      "Reading test data...\n"
     ]
    },
    {
     "output_type": "stream",
     "name": "stderr",
     "text": [
      "Some weights of the model checkpoint at albert-base-v2 were not used when initializing AlbertModel: ['predictions.dense.weight', 'predictions.LayerNorm.weight', 'predictions.LayerNorm.bias', 'predictions.decoder.bias', 'predictions.dense.bias', 'predictions.bias', 'predictions.decoder.weight']\n",
      "- This IS expected if you are initializing AlbertModel from the checkpoint of a model trained on another task or with another architecture (e.g. initializing a BertForSequenceClassification model from a BertForPreTraining model).\n",
      "- This IS NOT expected if you are initializing AlbertModel from the checkpoint of a model that you expect to be exactly identical (initializing a BertForSequenceClassification model from a BertForSequenceClassification model).\n"
     ]
    },
    {
     "output_type": "stream",
     "name": "stdout",
     "text": [
      "\n",
      "Loading the weights of the model...\n",
      "Predicting on test data...\n"
     ]
    },
    {
     "output_type": "stream",
     "name": "stderr",
     "text": [
      "100%|████████████████████████████████████████████████████████████████████████████████████████████████████████████████████████████████████████████████████| 1757/1757 [01:33<00:00, 18.81it/s]\n"
     ]
    },
    {
     "output_type": "stream",
     "name": "stdout",
     "text": [
      "\n",
      "Predictions are available in : ./datasets/model_validation/pred-albert-base-v2_5e-05_0.1075.csv\n"
     ]
    }
   ],
   "metadata": {}
  },
  {
   "cell_type": "markdown",
   "source": [
    "#  Convert model to ONNX\n"
   ],
   "metadata": {}
  },
  {
   "cell_type": "code",
   "execution_count": 18,
   "source": [
    "if config['Model']['convert_to_onnx']:\r\n",
    "    sequences = {'AGCTAAGCTAAGCTA':'AAGACTGACAGCTAA'}\r\n",
    "    sequences=pd.DataFrame(sequences.items(), columns=['Sequence1', 'Sequence2'])\r\n",
    "    dataset = CustomDataset(\r\n",
    "        data = sequences,\r\n",
    "        maxlen = config['Model']['max_len'],\r\n",
    "        with_labels = False #sulyginti su class cusotmedatasets\r\n",
    "        )\r\n",
    "    \r\n",
    "    model = Model(bert_model)\r\n",
    "    \r\n",
    "    model.load_state_dict(torch.load(config['Random']['path_to_model']))\r\n",
    "    model.to(device)\r\n",
    "    model.eval()\r\n",
    "    #defining model inputs, which are ids, kmask and toke type ids (it comes from Model Class)\r\n",
    "    input_ids= dataset[0][0].unsqueeze(0).cuda()\r\n",
    "    attn_masks = dataset[0][0].unsqueeze(0).cuda()\r\n",
    "    token_type_ids = dataset[0][0].unsqueeze(0).cuda()\r\n",
    "        \r\n",
    "    torch.onnx.export(\r\n",
    "        model, #.module if paralized\r\n",
    "        (input_ids, attn_masks, token_type_ids),\r\n",
    "        \"model.onnx\",\r\n",
    "        input_names=[\"input_ids\", \"attn_masks\", \"token_type_ids\"], \r\n",
    "        output_names=[\"output\"],\r\n",
    "        #which inputs have dynamical axes\r\n",
    "        verbose=True,\r\n",
    "        dynamic_axes={\r\n",
    "            \"input_ids\": {0: \"batch_size\"},\r\n",
    "            \"attn_masks\": {0: \"batch_size\"},\r\n",
    "            \"token_type_ids\": {0: \"batch_size\"},\r\n",
    "            \"output\": {0: \"batch_size\"},\r\n",
    "        },\r\n",
    "        opset_version=10,\r\n",
    "        )    "
   ],
   "outputs": [
    {
     "output_type": "stream",
     "name": "stderr",
     "text": [
      "Some weights of the model checkpoint at albert-base-v2 were not used when initializing AlbertModel: ['predictions.decoder.bias', 'predictions.LayerNorm.weight', 'predictions.decoder.weight', 'predictions.LayerNorm.bias', 'predictions.bias', 'predictions.dense.bias', 'predictions.dense.weight']\n",
      "- This IS expected if you are initializing AlbertModel from the checkpoint of a model trained on another task or with another architecture (e.g. initializing a BertForSequenceClassification model from a BertForPreTraining model).\n",
      "- This IS NOT expected if you are initializing AlbertModel from the checkpoint of a model that you expect to be exactly identical (initializing a BertForSequenceClassification model from a BertForSequenceClassification model).\n"
     ]
    },
    {
     "output_type": "error",
     "ename": "RuntimeError",
     "evalue": "CUDA error: device-side assert triggered\nCUDA kernel errors might be asynchronously reported at some other API call,so the stacktrace below might be incorrect.\nFor debugging consider passing CUDA_LAUNCH_BLOCKING=1.",
     "traceback": [
      "\u001b[0;31m---------------------------------------------------------------------------\u001b[0m",
      "\u001b[0;31mRuntimeError\u001b[0m                              Traceback (most recent call last)",
      "\u001b[0;32m/tmp/ipykernel_52286/3353613314.py\u001b[0m in \u001b[0;36m<module>\u001b[0;34m\u001b[0m\n\u001b[1;32m     10\u001b[0m     \u001b[0mmodel\u001b[0m \u001b[0;34m=\u001b[0m \u001b[0mModel\u001b[0m\u001b[0;34m(\u001b[0m\u001b[0mbert_model\u001b[0m\u001b[0;34m)\u001b[0m\u001b[0;34m\u001b[0m\u001b[0;34m\u001b[0m\u001b[0m\n\u001b[1;32m     11\u001b[0m \u001b[0;34m\u001b[0m\u001b[0m\n\u001b[0;32m---> 12\u001b[0;31m     \u001b[0mmodel\u001b[0m\u001b[0;34m.\u001b[0m\u001b[0mload_state_dict\u001b[0m\u001b[0;34m(\u001b[0m\u001b[0mtorch\u001b[0m\u001b[0;34m.\u001b[0m\u001b[0mload\u001b[0m\u001b[0;34m(\u001b[0m\u001b[0mconfig\u001b[0m\u001b[0;34m[\u001b[0m\u001b[0;34m'Random'\u001b[0m\u001b[0;34m]\u001b[0m\u001b[0;34m[\u001b[0m\u001b[0;34m'path_to_model'\u001b[0m\u001b[0;34m]\u001b[0m\u001b[0;34m)\u001b[0m\u001b[0;34m)\u001b[0m\u001b[0;34m\u001b[0m\u001b[0;34m\u001b[0m\u001b[0m\n\u001b[0m\u001b[1;32m     13\u001b[0m     \u001b[0mmodel\u001b[0m\u001b[0;34m.\u001b[0m\u001b[0mto\u001b[0m\u001b[0;34m(\u001b[0m\u001b[0mdevice\u001b[0m\u001b[0;34m)\u001b[0m\u001b[0;34m\u001b[0m\u001b[0;34m\u001b[0m\u001b[0m\n\u001b[1;32m     14\u001b[0m     \u001b[0mmodel\u001b[0m\u001b[0;34m.\u001b[0m\u001b[0meval\u001b[0m\u001b[0;34m(\u001b[0m\u001b[0;34m)\u001b[0m\u001b[0;34m\u001b[0m\u001b[0;34m\u001b[0m\u001b[0m\n",
      "\u001b[0;32m~/pyenv/lib/python3.8/site-packages/torch/serialization.py\u001b[0m in \u001b[0;36mload\u001b[0;34m(f, map_location, pickle_module, **pickle_load_args)\u001b[0m\n\u001b[1;32m    605\u001b[0m                     \u001b[0mopened_file\u001b[0m\u001b[0;34m.\u001b[0m\u001b[0mseek\u001b[0m\u001b[0;34m(\u001b[0m\u001b[0morig_position\u001b[0m\u001b[0;34m)\u001b[0m\u001b[0;34m\u001b[0m\u001b[0;34m\u001b[0m\u001b[0m\n\u001b[1;32m    606\u001b[0m                     \u001b[0;32mreturn\u001b[0m \u001b[0mtorch\u001b[0m\u001b[0;34m.\u001b[0m\u001b[0mjit\u001b[0m\u001b[0;34m.\u001b[0m\u001b[0mload\u001b[0m\u001b[0;34m(\u001b[0m\u001b[0mopened_file\u001b[0m\u001b[0;34m)\u001b[0m\u001b[0;34m\u001b[0m\u001b[0;34m\u001b[0m\u001b[0m\n\u001b[0;32m--> 607\u001b[0;31m                 \u001b[0;32mreturn\u001b[0m \u001b[0m_load\u001b[0m\u001b[0;34m(\u001b[0m\u001b[0mopened_zipfile\u001b[0m\u001b[0;34m,\u001b[0m \u001b[0mmap_location\u001b[0m\u001b[0;34m,\u001b[0m \u001b[0mpickle_module\u001b[0m\u001b[0;34m,\u001b[0m \u001b[0;34m**\u001b[0m\u001b[0mpickle_load_args\u001b[0m\u001b[0;34m)\u001b[0m\u001b[0;34m\u001b[0m\u001b[0;34m\u001b[0m\u001b[0m\n\u001b[0m\u001b[1;32m    608\u001b[0m         \u001b[0;32mreturn\u001b[0m \u001b[0m_legacy_load\u001b[0m\u001b[0;34m(\u001b[0m\u001b[0mopened_file\u001b[0m\u001b[0;34m,\u001b[0m \u001b[0mmap_location\u001b[0m\u001b[0;34m,\u001b[0m \u001b[0mpickle_module\u001b[0m\u001b[0;34m,\u001b[0m \u001b[0;34m**\u001b[0m\u001b[0mpickle_load_args\u001b[0m\u001b[0;34m)\u001b[0m\u001b[0;34m\u001b[0m\u001b[0;34m\u001b[0m\u001b[0m\n\u001b[1;32m    609\u001b[0m \u001b[0;34m\u001b[0m\u001b[0m\n",
      "\u001b[0;32m~/pyenv/lib/python3.8/site-packages/torch/serialization.py\u001b[0m in \u001b[0;36m_load\u001b[0;34m(zip_file, map_location, pickle_module, pickle_file, **pickle_load_args)\u001b[0m\n\u001b[1;32m    880\u001b[0m     \u001b[0munpickler\u001b[0m \u001b[0;34m=\u001b[0m \u001b[0mUnpicklerWrapper\u001b[0m\u001b[0;34m(\u001b[0m\u001b[0mdata_file\u001b[0m\u001b[0;34m,\u001b[0m \u001b[0;34m**\u001b[0m\u001b[0mpickle_load_args\u001b[0m\u001b[0;34m)\u001b[0m\u001b[0;34m\u001b[0m\u001b[0;34m\u001b[0m\u001b[0m\n\u001b[1;32m    881\u001b[0m     \u001b[0munpickler\u001b[0m\u001b[0;34m.\u001b[0m\u001b[0mpersistent_load\u001b[0m \u001b[0;34m=\u001b[0m \u001b[0mpersistent_load\u001b[0m\u001b[0;34m\u001b[0m\u001b[0;34m\u001b[0m\u001b[0m\n\u001b[0;32m--> 882\u001b[0;31m     \u001b[0mresult\u001b[0m \u001b[0;34m=\u001b[0m \u001b[0munpickler\u001b[0m\u001b[0;34m.\u001b[0m\u001b[0mload\u001b[0m\u001b[0;34m(\u001b[0m\u001b[0;34m)\u001b[0m\u001b[0;34m\u001b[0m\u001b[0;34m\u001b[0m\u001b[0m\n\u001b[0m\u001b[1;32m    883\u001b[0m \u001b[0;34m\u001b[0m\u001b[0m\n\u001b[1;32m    884\u001b[0m     \u001b[0mtorch\u001b[0m\u001b[0;34m.\u001b[0m\u001b[0m_utils\u001b[0m\u001b[0;34m.\u001b[0m\u001b[0m_validate_loaded_sparse_tensors\u001b[0m\u001b[0;34m(\u001b[0m\u001b[0;34m)\u001b[0m\u001b[0;34m\u001b[0m\u001b[0;34m\u001b[0m\u001b[0m\n",
      "\u001b[0;32m~/pyenv/lib/python3.8/site-packages/torch/serialization.py\u001b[0m in \u001b[0;36mpersistent_load\u001b[0;34m(saved_id)\u001b[0m\n\u001b[1;32m    855\u001b[0m         \u001b[0mdata_type\u001b[0m\u001b[0;34m,\u001b[0m \u001b[0mkey\u001b[0m\u001b[0;34m,\u001b[0m \u001b[0mlocation\u001b[0m\u001b[0;34m,\u001b[0m \u001b[0msize\u001b[0m \u001b[0;34m=\u001b[0m \u001b[0mdata\u001b[0m\u001b[0;34m\u001b[0m\u001b[0;34m\u001b[0m\u001b[0m\n\u001b[1;32m    856\u001b[0m         \u001b[0;32mif\u001b[0m \u001b[0mkey\u001b[0m \u001b[0;32mnot\u001b[0m \u001b[0;32min\u001b[0m \u001b[0mloaded_storages\u001b[0m\u001b[0;34m:\u001b[0m\u001b[0;34m\u001b[0m\u001b[0;34m\u001b[0m\u001b[0m\n\u001b[0;32m--> 857\u001b[0;31m             \u001b[0mload_tensor\u001b[0m\u001b[0;34m(\u001b[0m\u001b[0mdata_type\u001b[0m\u001b[0;34m,\u001b[0m \u001b[0msize\u001b[0m\u001b[0;34m,\u001b[0m \u001b[0mkey\u001b[0m\u001b[0;34m,\u001b[0m \u001b[0m_maybe_decode_ascii\u001b[0m\u001b[0;34m(\u001b[0m\u001b[0mlocation\u001b[0m\u001b[0;34m)\u001b[0m\u001b[0;34m)\u001b[0m\u001b[0;34m\u001b[0m\u001b[0;34m\u001b[0m\u001b[0m\n\u001b[0m\u001b[1;32m    858\u001b[0m         \u001b[0mstorage\u001b[0m \u001b[0;34m=\u001b[0m \u001b[0mloaded_storages\u001b[0m\u001b[0;34m[\u001b[0m\u001b[0mkey\u001b[0m\u001b[0;34m]\u001b[0m\u001b[0;34m\u001b[0m\u001b[0;34m\u001b[0m\u001b[0m\n\u001b[1;32m    859\u001b[0m         \u001b[0;32mreturn\u001b[0m \u001b[0mstorage\u001b[0m\u001b[0;34m\u001b[0m\u001b[0;34m\u001b[0m\u001b[0m\n",
      "\u001b[0;32m~/pyenv/lib/python3.8/site-packages/torch/serialization.py\u001b[0m in \u001b[0;36mload_tensor\u001b[0;34m(data_type, size, key, location)\u001b[0m\n\u001b[1;32m    844\u001b[0m \u001b[0;34m\u001b[0m\u001b[0m\n\u001b[1;32m    845\u001b[0m         \u001b[0mstorage\u001b[0m \u001b[0;34m=\u001b[0m \u001b[0mzip_file\u001b[0m\u001b[0;34m.\u001b[0m\u001b[0mget_storage_from_record\u001b[0m\u001b[0;34m(\u001b[0m\u001b[0mname\u001b[0m\u001b[0;34m,\u001b[0m \u001b[0msize\u001b[0m\u001b[0;34m,\u001b[0m \u001b[0mdtype\u001b[0m\u001b[0;34m)\u001b[0m\u001b[0;34m.\u001b[0m\u001b[0mstorage\u001b[0m\u001b[0;34m(\u001b[0m\u001b[0;34m)\u001b[0m\u001b[0;34m\u001b[0m\u001b[0;34m\u001b[0m\u001b[0m\n\u001b[0;32m--> 846\u001b[0;31m         \u001b[0mloaded_storages\u001b[0m\u001b[0;34m[\u001b[0m\u001b[0mkey\u001b[0m\u001b[0;34m]\u001b[0m \u001b[0;34m=\u001b[0m \u001b[0mrestore_location\u001b[0m\u001b[0;34m(\u001b[0m\u001b[0mstorage\u001b[0m\u001b[0;34m,\u001b[0m \u001b[0mlocation\u001b[0m\u001b[0;34m)\u001b[0m\u001b[0;34m\u001b[0m\u001b[0;34m\u001b[0m\u001b[0m\n\u001b[0m\u001b[1;32m    847\u001b[0m \u001b[0;34m\u001b[0m\u001b[0m\n\u001b[1;32m    848\u001b[0m     \u001b[0;32mdef\u001b[0m \u001b[0mpersistent_load\u001b[0m\u001b[0;34m(\u001b[0m\u001b[0msaved_id\u001b[0m\u001b[0;34m)\u001b[0m\u001b[0;34m:\u001b[0m\u001b[0;34m\u001b[0m\u001b[0;34m\u001b[0m\u001b[0m\n",
      "\u001b[0;32m~/pyenv/lib/python3.8/site-packages/torch/serialization.py\u001b[0m in \u001b[0;36mdefault_restore_location\u001b[0;34m(storage, location)\u001b[0m\n\u001b[1;32m    173\u001b[0m \u001b[0;32mdef\u001b[0m \u001b[0mdefault_restore_location\u001b[0m\u001b[0;34m(\u001b[0m\u001b[0mstorage\u001b[0m\u001b[0;34m,\u001b[0m \u001b[0mlocation\u001b[0m\u001b[0;34m)\u001b[0m\u001b[0;34m:\u001b[0m\u001b[0;34m\u001b[0m\u001b[0;34m\u001b[0m\u001b[0m\n\u001b[1;32m    174\u001b[0m     \u001b[0;32mfor\u001b[0m \u001b[0m_\u001b[0m\u001b[0;34m,\u001b[0m \u001b[0m_\u001b[0m\u001b[0;34m,\u001b[0m \u001b[0mfn\u001b[0m \u001b[0;32min\u001b[0m \u001b[0m_package_registry\u001b[0m\u001b[0;34m:\u001b[0m\u001b[0;34m\u001b[0m\u001b[0;34m\u001b[0m\u001b[0m\n\u001b[0;32m--> 175\u001b[0;31m         \u001b[0mresult\u001b[0m \u001b[0;34m=\u001b[0m \u001b[0mfn\u001b[0m\u001b[0;34m(\u001b[0m\u001b[0mstorage\u001b[0m\u001b[0;34m,\u001b[0m \u001b[0mlocation\u001b[0m\u001b[0;34m)\u001b[0m\u001b[0;34m\u001b[0m\u001b[0;34m\u001b[0m\u001b[0m\n\u001b[0m\u001b[1;32m    176\u001b[0m         \u001b[0;32mif\u001b[0m \u001b[0mresult\u001b[0m \u001b[0;32mis\u001b[0m \u001b[0;32mnot\u001b[0m \u001b[0;32mNone\u001b[0m\u001b[0;34m:\u001b[0m\u001b[0;34m\u001b[0m\u001b[0;34m\u001b[0m\u001b[0m\n\u001b[1;32m    177\u001b[0m             \u001b[0;32mreturn\u001b[0m \u001b[0mresult\u001b[0m\u001b[0;34m\u001b[0m\u001b[0;34m\u001b[0m\u001b[0m\n",
      "\u001b[0;32m~/pyenv/lib/python3.8/site-packages/torch/serialization.py\u001b[0m in \u001b[0;36m_cuda_deserialize\u001b[0;34m(obj, location)\u001b[0m\n\u001b[1;32m    155\u001b[0m                 \u001b[0;32mreturn\u001b[0m \u001b[0mstorage_type\u001b[0m\u001b[0;34m(\u001b[0m\u001b[0mobj\u001b[0m\u001b[0;34m.\u001b[0m\u001b[0msize\u001b[0m\u001b[0;34m(\u001b[0m\u001b[0;34m)\u001b[0m\u001b[0;34m)\u001b[0m\u001b[0;34m\u001b[0m\u001b[0;34m\u001b[0m\u001b[0m\n\u001b[1;32m    156\u001b[0m         \u001b[0;32melse\u001b[0m\u001b[0;34m:\u001b[0m\u001b[0;34m\u001b[0m\u001b[0;34m\u001b[0m\u001b[0m\n\u001b[0;32m--> 157\u001b[0;31m             \u001b[0;32mreturn\u001b[0m \u001b[0mobj\u001b[0m\u001b[0;34m.\u001b[0m\u001b[0mcuda\u001b[0m\u001b[0;34m(\u001b[0m\u001b[0mdevice\u001b[0m\u001b[0;34m)\u001b[0m\u001b[0;34m\u001b[0m\u001b[0;34m\u001b[0m\u001b[0m\n\u001b[0m\u001b[1;32m    158\u001b[0m \u001b[0;34m\u001b[0m\u001b[0m\n\u001b[1;32m    159\u001b[0m \u001b[0;34m\u001b[0m\u001b[0m\n",
      "\u001b[0;32m~/pyenv/lib/python3.8/site-packages/torch/_utils.py\u001b[0m in \u001b[0;36m_cuda\u001b[0;34m(self, device, non_blocking, **kwargs)\u001b[0m\n\u001b[1;32m     77\u001b[0m         \u001b[0;32melse\u001b[0m\u001b[0;34m:\u001b[0m\u001b[0;34m\u001b[0m\u001b[0;34m\u001b[0m\u001b[0m\n\u001b[1;32m     78\u001b[0m             \u001b[0mnew_type\u001b[0m \u001b[0;34m=\u001b[0m \u001b[0mgetattr\u001b[0m\u001b[0;34m(\u001b[0m\u001b[0mtorch\u001b[0m\u001b[0;34m.\u001b[0m\u001b[0mcuda\u001b[0m\u001b[0;34m,\u001b[0m \u001b[0mself\u001b[0m\u001b[0;34m.\u001b[0m\u001b[0m__class__\u001b[0m\u001b[0;34m.\u001b[0m\u001b[0m__name__\u001b[0m\u001b[0;34m)\u001b[0m\u001b[0;34m\u001b[0m\u001b[0;34m\u001b[0m\u001b[0m\n\u001b[0;32m---> 79\u001b[0;31m             \u001b[0;32mreturn\u001b[0m \u001b[0mnew_type\u001b[0m\u001b[0;34m(\u001b[0m\u001b[0mself\u001b[0m\u001b[0;34m.\u001b[0m\u001b[0msize\u001b[0m\u001b[0;34m(\u001b[0m\u001b[0;34m)\u001b[0m\u001b[0;34m)\u001b[0m\u001b[0;34m.\u001b[0m\u001b[0mcopy_\u001b[0m\u001b[0;34m(\u001b[0m\u001b[0mself\u001b[0m\u001b[0;34m,\u001b[0m \u001b[0mnon_blocking\u001b[0m\u001b[0;34m)\u001b[0m\u001b[0;34m\u001b[0m\u001b[0;34m\u001b[0m\u001b[0m\n\u001b[0m\u001b[1;32m     80\u001b[0m \u001b[0;34m\u001b[0m\u001b[0m\n\u001b[1;32m     81\u001b[0m \u001b[0;34m\u001b[0m\u001b[0m\n",
      "\u001b[0;31mRuntimeError\u001b[0m: CUDA error: device-side assert triggered\nCUDA kernel errors might be asynchronously reported at some other API call,so the stacktrace below might be incorrect.\nFor debugging consider passing CUDA_LAUNCH_BLOCKING=1."
     ]
    }
   ],
   "metadata": {}
  },
  {
   "cell_type": "code",
   "execution_count": null,
   "source": [],
   "outputs": [],
   "metadata": {}
  }
 ],
 "metadata": {
  "accelerator": "GPU",
  "colab": {
   "collapsed_sections": [],
   "machine_shape": "hm",
   "name": "classification.ipynb",
   "provenance": []
  },
  "kernelspec": {
   "display_name": "Python 3 (ipykernel)",
   "language": "python",
   "name": "python3"
  },
  "language_info": {
   "codemirror_mode": {
    "name": "ipython",
    "version": 3
   },
   "file_extension": ".py",
   "mimetype": "text/x-python",
   "name": "python",
   "nbconvert_exporter": "python",
   "pygments_lexer": "ipython3",
   "version": "3.8.10"
  }
 },
 "nbformat": 4,
 "nbformat_minor": 4
}