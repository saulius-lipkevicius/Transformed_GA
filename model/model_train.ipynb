{
  "nbformat": 4,
  "nbformat_minor": 2,
  "metadata": {
    "colab": {
      "name": "classification.ipynb",
      "provenance": [],
      "collapsed_sections": [],
      "machine_shape": "hm"
    },
    "kernelspec": {
      "name": "python3",
      "display_name": "Python 3"
    },
    "accelerator": "GPU"
  },
  "cells": [
    {
      "cell_type": "markdown",
      "source": [
        "# ALBERT for aptamer-pair classification"
      ],
      "metadata": {
        "id": "TuLR0BMJhIub"
      }
    },
    {
      "cell_type": "markdown",
      "source": [
        "## Set dependancies"
      ],
      "metadata": {}
    },
    {
      "cell_type": "code",
      "execution_count": null,
      "source": [
        "!pip install transformers==4.9.1\r\n",
        "#  In case prediction doesnt work Check:\r\n",
        "#  https://github.com/huggingface/transformers/issues/8879 and BERT architecture"
      ],
      "outputs": [],
      "metadata": {
        "id": "42-lJ1u9IHT6",
        "colab": {
          "base_uri": "https://localhost:8080/"
        },
        "outputId": "d5b0632a-8bc8-46ff-a415-8da9864ab984"
      }
    },
    {
      "cell_type": "code",
      "execution_count": null,
      "source": [
        "import torch\r\n",
        "import torch.nn as nn\r\n",
        "import torch.onnx\r\n",
        "import os\r\n",
        "import matplotlib.pyplot as plt\r\n",
        "import copy\r\n",
        "import torch.optim as optim\r\n",
        "import random\r\n",
        "import numpy as np\r\n",
        "import pandas as pd\r\n",
        "import ruamel.yaml\r\n",
        "from torch.utils.data import DataLoader, Dataset\r\n",
        "from torch.cuda.amp import autocast, GradScaler\r\n",
        "from tqdm import tqdm\r\n",
        "from transformers import AutoTokenizer, AutoModel, AdamW, get_linear_schedule_with_warmup\r\n",
        "\r\n",
        "os.environ[\"TOKENIZERS_PARALLELISM\"] = \"false\"\r\n",
        "config_name = 'config.yaml'"
      ],
      "outputs": [],
      "metadata": {
        "id": "KE_TpNaSZQ5n"
      }
    },
    {
      "cell_type": "markdown",
      "source": [
        "## Load your dataset"
      ],
      "metadata": {
        "id": "lpKx43Iq6znw"
      }
    },
    {
      "cell_type": "code",
      "execution_count": null,
      "source": [
        "with open(config_name, 'r') as stream:\r\n",
        "    try:\r\n",
        "        yaml = ruamel.yaml.YAML()\r\n",
        "        config = yaml.load(stream)\r\n",
        "    except yaml.YAMLError as exc:\r\n",
        "        print(exc)"
      ],
      "outputs": [],
      "metadata": {}
    },
    {
      "cell_type": "code",
      "execution_count": null,
      "source": [
        "path_to_train_data = config['Datasets']['train']\r\n",
        "path_to_val_data = config['Datasets']['val']\r\n",
        "path_to_test_data = config['Datasets']['test']\r\n",
        "\r\n",
        "df_train = pd.read_csv(path_to_train_data)\r\n",
        "df_val = pd.read_csv(path_to_val_data)\r\n",
        "df_test = pd.read_csv(path_to_test_data)"
      ],
      "outputs": [],
      "metadata": {
        "id": "OCA-bKfuEbjH"
      }
    },
    {
      "cell_type": "code",
      "execution_count": null,
      "source": [
        "print(df_train.shape, df_val.shape, df_test.shape)"
      ],
      "outputs": [
        {
          "output_type": "stream",
          "name": "stdout",
          "text": [
            "(399600, 3)\n",
            "(49950, 3)\n",
            "(49950, 3)\n"
          ]
        }
      ],
      "metadata": {
        "id": "nNs2FWNJSLSq",
        "colab": {
          "base_uri": "https://localhost:8080/"
        },
        "outputId": "62dc686d-df2e-4c6d-97f1-b17f81d238ad"
      }
    },
    {
      "cell_type": "code",
      "execution_count": null,
      "source": [
        "df_train.head()"
      ],
      "outputs": [
        {
          "output_type": "execute_result",
          "data": {
            "text/plain": [
              "         Sequence1        Sequence2  Label\n",
              "0  ATCTGGCTAATTAAT  GCTAGCTACTCTCAG      0\n",
              "1  AAGGAGATGGTTGAA  GAAGGGTCGTCTCCA      0\n",
              "2  AGATGCAAACGCTGC  TCGAATCTATAGACA      0\n",
              "3  GCTGTCACGAACTTG  GTTTGGAGGCTGATC      1\n",
              "4  CGAGTCTGTCTCGCC  ATAAAGCAGAAAAAT      1"
            ],
            "text/html": [
              "<div>\n",
              "<style scoped>\n",
              "    .dataframe tbody tr th:only-of-type {\n",
              "        vertical-align: middle;\n",
              "    }\n",
              "\n",
              "    .dataframe tbody tr th {\n",
              "        vertical-align: top;\n",
              "    }\n",
              "\n",
              "    .dataframe thead th {\n",
              "        text-align: right;\n",
              "    }\n",
              "</style>\n",
              "<table border=\"1\" class=\"dataframe\">\n",
              "  <thead>\n",
              "    <tr style=\"text-align: right;\">\n",
              "      <th></th>\n",
              "      <th>Sequence1</th>\n",
              "      <th>Sequence2</th>\n",
              "      <th>Label</th>\n",
              "    </tr>\n",
              "  </thead>\n",
              "  <tbody>\n",
              "    <tr>\n",
              "      <th>0</th>\n",
              "      <td>ATCTGGCTAATTAAT</td>\n",
              "      <td>GCTAGCTACTCTCAG</td>\n",
              "      <td>0</td>\n",
              "    </tr>\n",
              "    <tr>\n",
              "      <th>1</th>\n",
              "      <td>AAGGAGATGGTTGAA</td>\n",
              "      <td>GAAGGGTCGTCTCCA</td>\n",
              "      <td>0</td>\n",
              "    </tr>\n",
              "    <tr>\n",
              "      <th>2</th>\n",
              "      <td>AGATGCAAACGCTGC</td>\n",
              "      <td>TCGAATCTATAGACA</td>\n",
              "      <td>0</td>\n",
              "    </tr>\n",
              "    <tr>\n",
              "      <th>3</th>\n",
              "      <td>GCTGTCACGAACTTG</td>\n",
              "      <td>GTTTGGAGGCTGATC</td>\n",
              "      <td>1</td>\n",
              "    </tr>\n",
              "    <tr>\n",
              "      <th>4</th>\n",
              "      <td>CGAGTCTGTCTCGCC</td>\n",
              "      <td>ATAAAGCAGAAAAAT</td>\n",
              "      <td>1</td>\n",
              "    </tr>\n",
              "  </tbody>\n",
              "</table>\n",
              "</div>"
            ]
          },
          "metadata": {
            "tags": []
          },
          "execution_count": 6
        }
      ],
      "metadata": {
        "id": "irj7itV0UCF_",
        "colab": {
          "base_uri": "https://localhost:8080/",
          "height": 206
        },
        "outputId": "a648d128-a509-4cf7-8b27-7474d83a50dd"
      }
    },
    {
      "cell_type": "markdown",
      "source": [
        "## Classes and functions"
      ],
      "metadata": {
        "id": "TWJfh6DV7CB5"
      }
    },
    {
      "cell_type": "code",
      "execution_count": null,
      "source": [
        "class CustomDataset(Dataset):\r\n",
        "\r\n",
        "    def __init__(self, data, maxlen, with_labels=True, bert_model='albert-base-v2'):\r\n",
        "        self.data = data  # pandas dataframe\r\n",
        "        self.tokenizer = AutoTokenizer.from_pretrained(bert_model, return_dict=False)  \r\n",
        "        self.maxlen = maxlen\r\n",
        "        self.with_labels = with_labels \r\n",
        "\r\n",
        "    def __len__(self):\r\n",
        "        return len(self.data)\r\n",
        "\r\n",
        "    def __getitem__(self, index):\r\n",
        "        sent1 = str(self.data.loc[index, 'Sequence1'])\r\n",
        "        sent2 = str(self.data.loc[index, 'Sequence2'])\r\n",
        "\r\n",
        "        # Tokenize the pair of sentences to get token ids, attention masks and token type ids\r\n",
        "        encoded_pair = self.tokenizer(sent1, sent2, \r\n",
        "                                      padding='max_length',  # Pad to max_length\r\n",
        "                                      truncation=True,  # Truncate to max_length\r\n",
        "                                      max_length=self.maxlen,  \r\n",
        "                                      return_tensors='pt')  # Return torch.Tensor objects\r\n",
        "        \r\n",
        "        token_ids = encoded_pair['input_ids'].squeeze(0)  # tensor of token ids\r\n",
        "        attn_masks = encoded_pair['attention_mask'].squeeze(0)  # binary tensor with \"0\" for padded values and \"1\" for the other values\r\n",
        "        token_type_ids = encoded_pair['token_type_ids'].squeeze(0)  # binary tensor with \"0\" for the 1st sentence tokens & \"1\" for the 2nd sentence tokens\r\n",
        "\r\n",
        "        if self.with_labels:  # True if the dataset has labels\r\n",
        "            label = self.data.loc[index, 'Label']\r\n",
        "            return token_ids, attn_masks, token_type_ids, label  \r\n",
        "        else:\r\n",
        "            return token_ids, attn_masks, token_type_ids"
      ],
      "outputs": [],
      "metadata": {
        "id": "Tc1GQh7yEm4C"
      }
    },
    {
      "cell_type": "code",
      "execution_count": null,
      "source": [
        "class Model(nn.Module):\r\n",
        "\r\n",
        "    def __init__(self, bert_model=\"albert-base-v2\", freeze_bert=False):\r\n",
        "        super(Model, self).__init__()\r\n",
        "        self.bert_layer = AutoModel.from_pretrained(bert_model)\r\n",
        "\r\n",
        "        #  Fix the hidden-state size of the encoder outputs\r\n",
        "        #  More information can be found https://huggingface.co/transformers/pretrained_models.html\r\n",
        "        hidden_size = config['Model']['hidden_size']\r\n",
        "\r\n",
        "        # Freeze bert layers and only train the classification layer weights\r\n",
        "        if freeze_bert:\r\n",
        "            for p in self.bert_layer.parameters():\r\n",
        "                p.requires_grad = False\r\n",
        "\r\n",
        "        # Classification layer\r\n",
        "        self.cls_layer = nn.Linear(hidden_size, config['Model']['number_labels'])\r\n",
        "        self.dropout = nn.Dropout(p=config['Model'['dropout_rate']])\r\n",
        "\r\n",
        "    @autocast()  # run in mixed precision\r\n",
        "    def forward(self, input_ids, attn_masks, token_type_ids):\r\n",
        "        '''\r\n",
        "        Inputs:\r\n",
        "            -input_ids : Tensor  containing token ids\r\n",
        "            -attn_masks : Tensor containing attention masks to be used to focus on non-padded values\r\n",
        "            -token_type_ids : Tensor containing token type ids to be used to identify sentence1 and sentence2\r\n",
        "        '''\r\n",
        "\r\n",
        "        # Feeding the inputs to the BERT-based model to obtain contextualized representations\r\n",
        "        cont_reps, pooler_output = self.bert_layer(input_ids, attn_masks, token_type_ids)\r\n",
        "\r\n",
        "        # Feeding to the classifier layer the last layer hidden-state of the [CLS] token further processed by a\r\n",
        "        # Linear Layer and a Tanh activation. The Linear layer weights were trained from the sentence order prediction (ALBERT) or next sentence prediction (BERT)\r\n",
        "        # objective during pre-training.\r\n",
        "        logits = self.cls_layer(self.dropout(pooler_output))\r\n",
        "\r\n",
        "        return logits"
      ],
      "outputs": [],
      "metadata": {
        "id": "hm0lAXvTZChm"
      }
    },
    {
      "cell_type": "code",
      "execution_count": null,
      "source": [
        "#seed to make results reproducible\r\n",
        "def set_seed(seed):\r\n",
        "    \"\"\" Set all seeds to make results reproducible \"\"\"\r\n",
        "    torch.manual_seed(seed)\r\n",
        "    torch.cuda.manual_seed_all(seed)\r\n",
        "    torch.backends.cudnn.deterministic = True\r\n",
        "    torch.backends.cudnn.benchmark = False\r\n",
        "    np.random.seed(seed)\r\n",
        "    random.seed(seed)\r\n",
        "    os.environ['PYTHONHASHSEED'] = str(seed)\r\n",
        "    \r\n",
        "\r\n",
        "def evaluate_loss(net, device, criterion, dataloader):\r\n",
        "    net.eval()\r\n",
        "\r\n",
        "    mean_loss = 0\r\n",
        "    count = 0\r\n",
        "\r\n",
        "    with torch.no_grad():\r\n",
        "        for it, (seq, attn_masks, token_type_ids, labels) in enumerate(tqdm(dataloader)):\r\n",
        "            seq, attn_masks, token_type_ids, labels = \\\r\n",
        "                seq.to(device), attn_masks.to(device), token_type_ids.to(device), labels.to(device)\r\n",
        "            logits = net(seq, attn_masks, token_type_ids)\r\n",
        "            mean_loss += criterion(logits.squeeze(-1), labels.float()).item()\r\n",
        "            count += 1\r\n",
        "\r\n",
        "    return mean_loss / count"
      ],
      "outputs": [],
      "metadata": {
        "id": "5SrSNNYTjwe8"
      }
    },
    {
      "cell_type": "code",
      "execution_count": null,
      "source": [
        "def train_bert(net, criterion, opti, lr, lr_scheduler, train_loader, val_loader, epochs, iters_to_accumulate):\r\n",
        "\r\n",
        "    best_loss = np.Inf\r\n",
        "    nb_iterations = len(train_loader)\r\n",
        "    print_every = nb_iterations // config['Random']['print_every']  # print the training loss 5 times per epoch\r\n",
        "    scaler = GradScaler()\r\n",
        "    \r\n",
        "    iters = []\r\n",
        "    train_losses = []\r\n",
        "    val_losses = []\r\n",
        "\r\n",
        "    for ep in range(epochs):\r\n",
        "\r\n",
        "        net.train()\r\n",
        "        running_loss = 0.0\r\n",
        "        for it, (seq, attn_masks, token_type_ids, labels) in enumerate(tqdm(train_loader)):\r\n",
        "\r\n",
        "            # Converting to cuda tensors\r\n",
        "            seq, attn_masks, token_type_ids, labels = \\\r\n",
        "                seq.to(device), attn_masks.to(device), token_type_ids.to(device), labels.to(device)\r\n",
        "    \r\n",
        "            # Enables autocasting for the forward pass (model + loss)\r\n",
        "            with autocast():\r\n",
        "                # Obtaining the logits from the model\r\n",
        "                logits = net(seq, attn_masks, token_type_ids)\r\n",
        "\r\n",
        "                # Computing loss\r\n",
        "                loss = criterion(logits.squeeze(-1), labels.float())\r\n",
        "                loss = loss / iters_to_accumulate  # Normalize the loss because it is averaged\r\n",
        "\r\n",
        "            # Backpropagating the gradients\r\n",
        "            # Scales loss.  Calls backward() on scaled loss to create scaled gradients.\r\n",
        "            scaler.scale(loss).backward()\r\n",
        "\r\n",
        "            if (it + 1) % iters_to_accumulate == 0:\r\n",
        "                # Optimization step\r\n",
        "                # scaler.step() first unscales the gradients of the optimizer's assigned params.\r\n",
        "                # If these gradients do not contain infs or NaNs, opti.step() is then called,\r\n",
        "                # otherwise, opti.step() is skipped.\r\n",
        "                scaler.step(opti)\r\n",
        "                # Updates the scale for next iteration.\r\n",
        "                scaler.update()\r\n",
        "                # Adjust the learning rate based on the number of iterations.\r\n",
        "                lr_scheduler.step()\r\n",
        "                # Clear gradients\r\n",
        "                opti.zero_grad()\r\n",
        "\r\n",
        "\r\n",
        "            running_loss += loss.item()\r\n",
        "\r\n",
        "            if (it + 1) % print_every == 0:  # Print training loss information\r\n",
        "                print()\r\n",
        "                print(\"Iteration {}/{} of epoch {} complete. Loss : {} \"\r\n",
        "                      .format(it+1, nb_iterations, ep+1, running_loss / print_every))\r\n",
        "\r\n",
        "                running_loss = 0.0\r\n",
        "\r\n",
        "\r\n",
        "        val_loss = evaluate_loss(net, device, criterion, val_loader)  # Compute validation loss\r\n",
        "        print()\r\n",
        "        print(\"Epoch {} complete! Validation Loss : {}\".format(ep+1, val_loss))\r\n",
        "\r\n",
        "        if val_loss < best_loss:\r\n",
        "            print(\"Best validation loss improved from {} to {}\".format(best_loss, val_loss))\r\n",
        "            print()\r\n",
        "            net_copy = copy.deepcopy(net)  # save a copy of the model\r\n",
        "            best_loss = val_loss\r\n",
        "\r\n",
        "    # Saving the model\r\n",
        "    path_to_model='model/{}_{}_{}.pt'.format(bert_model, lr, round(best_loss, 4))\r\n",
        "    path_to_model_evaluation = './datasets/model_validation/{}_{}_{}.pt'.format(bert_model, lr, round(best_loss, 4))\r\n",
        "    \r\n",
        "    config['Random']['path_to_model'] = path_to_model\r\n",
        "    config['Random']['path_to_model_evaluation'] = path_to_model_evaluation\r\n",
        "\r\n",
        "    torch.save(net_copy.state_dict(), path_to_model)\r\n",
        "    print(\"The model has been saved in {}\".format(path_to_model))\r\n",
        "\r\n",
        "    del loss\r\n",
        "    torch.cuda.empty_cache()"
      ],
      "outputs": [],
      "metadata": {
        "id": "I-o6KyaFkU5u"
      }
    },
    {
      "cell_type": "markdown",
      "source": [
        "## Hyperparameters for training"
      ],
      "metadata": {
        "id": "WFy9kQ2-SvQ2"
      }
    },
    {
      "cell_type": "code",
      "execution_count": null,
      "source": [
        "bert_model = config['Model']['bert_model']  # any of previously defined BERT alternatives :'albert-base-v2', 'albert-large-v2', 'albert-xlarge-v2', 'albert-xxlarge-v2' and others\r\n",
        "freeze_bert = config['Model']['freeze_bert']  # if True, freeze the encoder weights and only update the classification layer weights\r\n",
        "maxlen = config['Model']['max_len']        # maximum length of the tokenized input sentence pair : if greater than \"maxlen\", the input is truncated and else if smaller, the input is padded\r\n",
        "bs = config['Model']['batch_size']                # batch size\r\n",
        "iters_to_accumulate = config['Model']['itters_to_accumulate']  # the gradient accumulation adds gradients over an effective batch of size : bs * iters_to_accumulate. If set to \"1\", you get the usual batch size\r\n",
        "lr = config['Model']['learning_rate']                # learning rate\r\n",
        "epochs = config['Model']['epochs']             # number of training epochs"
      ],
      "outputs": [],
      "metadata": {
        "id": "b6bzDp4FreS6"
      }
    },
    {
      "cell_type": "markdown",
      "source": [
        "## Training"
      ],
      "metadata": {
        "id": "y_abThXlSr6n"
      }
    },
    {
      "cell_type": "code",
      "execution_count": null,
      "source": [
        "#  Set all seeds to make reproducible results\r\n",
        "set_seed(2)\r\n",
        " \r\n",
        "# Creating instances of training and validation set\r\n",
        "print(\"Reading training data...\")\r\n",
        "train_set = CustomDataset(df_train, maxlen, bert_model)\r\n",
        "print(\"Reading validation data...\")\r\n",
        "val_set = CustomDataset(df_val, maxlen, bert_model)\r\n",
        "# Creating instances of training and validation dataloaders\r\n",
        "train_loader = DataLoader(train_set, batch_size=bs, num_workers=2)\r\n",
        "val_loader = DataLoader(val_set, batch_size=bs, num_workers=2)\r\n",
        " \r\n",
        " \r\n",
        "device = torch.device(\"cuda:0\" if torch.cuda.is_available() else \"cpu\")\r\n",
        "net = Model(bert_model, freeze_bert=freeze_bert)\r\n",
        "\r\n",
        "if torch.cuda.device_count() > 1:  # if multiple GPUs\r\n",
        "    print(\"Let's use\", torch.cuda.device_count(), \"GPUs!\")\r\n",
        "    net = nn.DataParallel(net)\r\n",
        "\r\n",
        "net.to(device)\r\n",
        "   \r\n",
        "criterion = nn.BCEWithLogitsLoss()\r\n",
        "opti = AdamW(net.parameters(), lr=lr, weight_decay=1e-2)\r\n",
        "num_warmup_steps = config['Model']['num_warmup_steps'] # The number of steps for the warmup phase.\r\n",
        "num_training_steps = epochs * len(train_loader)  # The total number of training steps\r\n",
        "t_total = (len(train_loader) // iters_to_accumulate) * epochs  # Necessary to take into account Gradient accumulation\r\n",
        "lr_scheduler = get_linear_schedule_with_warmup(optimizer=opti, num_warmup_steps=num_warmup_steps, num_training_steps=t_total)\r\n",
        "                         \r\n",
        "train_bert(net, criterion, opti, lr, lr_scheduler, train_loader, val_loader, epochs, iters_to_accumulate)\r\n",
        "\r\n",
        "with open('config.yaml', 'w') as conf:\r\n",
        "    yaml.dump(config, conf)"
      ],
      "outputs": [
        {
          "output_type": "stream",
          "name": "stdout",
          "text": [
            "Reading training data...\n",
            "Reading validation data...\n"
          ]
        },
        {
          "output_type": "stream",
          "name": "stderr",
          "text": [
            " 10%|▉         | 624/6244 [02:16<20:26,  4.58it/s]"
          ]
        },
        {
          "output_type": "stream",
          "name": "stdout",
          "text": [
            "\n",
            "Iteration 624/6244 of epoch 1 complete. Loss : 0.35080221448189175 \n"
          ]
        },
        {
          "output_type": "stream",
          "name": "stderr",
          "text": [
            " 20%|█▉        | 1248/6244 [04:32<18:08,  4.59it/s]"
          ]
        },
        {
          "output_type": "stream",
          "name": "stdout",
          "text": [
            "\n",
            "Iteration 1248/6244 of epoch 1 complete. Loss : 0.32330357120969355 \n"
          ]
        },
        {
          "output_type": "stream",
          "name": "stderr",
          "text": [
            " 30%|██▉       | 1872/6244 [06:48<15:53,  4.59it/s]"
          ]
        },
        {
          "output_type": "stream",
          "name": "stdout",
          "text": [
            "\n",
            "Iteration 1872/6244 of epoch 1 complete. Loss : 0.28906675062787074 \n"
          ]
        },
        {
          "output_type": "stream",
          "name": "stderr",
          "text": [
            " 40%|███▉      | 2496/6244 [09:04<13:38,  4.58it/s]"
          ]
        },
        {
          "output_type": "stream",
          "name": "stdout",
          "text": [
            "\n",
            "Iteration 2496/6244 of epoch 1 complete. Loss : 0.2688979998899576 \n"
          ]
        },
        {
          "output_type": "stream",
          "name": "stderr",
          "text": [
            " 50%|████▉     | 3120/6244 [11:20<11:22,  4.58it/s]"
          ]
        },
        {
          "output_type": "stream",
          "name": "stdout",
          "text": [
            "\n",
            "Iteration 3120/6244 of epoch 1 complete. Loss : 0.26109381220661676 \n"
          ]
        },
        {
          "output_type": "stream",
          "name": "stderr",
          "text": [
            " 60%|█████▉    | 3744/6244 [13:35<09:05,  4.58it/s]"
          ]
        },
        {
          "output_type": "stream",
          "name": "stdout",
          "text": [
            "\n",
            "Iteration 3744/6244 of epoch 1 complete. Loss : 0.25548320373472494 \n"
          ]
        },
        {
          "output_type": "stream",
          "name": "stderr",
          "text": [
            " 70%|██████▉   | 4368/6244 [15:51<06:48,  4.59it/s]"
          ]
        },
        {
          "output_type": "stream",
          "name": "stdout",
          "text": [
            "\n",
            "Iteration 4368/6244 of epoch 1 complete. Loss : 0.250910395087722 \n"
          ]
        },
        {
          "output_type": "stream",
          "name": "stderr",
          "text": [
            " 80%|███████▉  | 4992/6244 [18:07<04:33,  4.59it/s]"
          ]
        },
        {
          "output_type": "stream",
          "name": "stdout",
          "text": [
            "\n",
            "Iteration 4992/6244 of epoch 1 complete. Loss : 0.24684393826203468 \n"
          ]
        },
        {
          "output_type": "stream",
          "name": "stderr",
          "text": [
            " 90%|████████▉ | 5616/6244 [20:23<02:16,  4.59it/s]"
          ]
        },
        {
          "output_type": "stream",
          "name": "stdout",
          "text": [
            "\n",
            "Iteration 5616/6244 of epoch 1 complete. Loss : 0.24763305958073872 \n"
          ]
        },
        {
          "output_type": "stream",
          "name": "stderr",
          "text": [
            "100%|█████████▉| 6240/6244 [22:39<00:00,  4.59it/s]"
          ]
        },
        {
          "output_type": "stream",
          "name": "stdout",
          "text": [
            "\n",
            "Iteration 6240/6244 of epoch 1 complete. Loss : 0.24403590520318502 \n"
          ]
        },
        {
          "output_type": "stream",
          "name": "stderr",
          "text": [
            "100%|██████████| 6244/6244 [22:40<00:00,  4.59it/s]\n",
            "100%|██████████| 781/781 [01:03<00:00, 12.34it/s]\n",
            "  0%|          | 0/6244 [00:00<?, ?it/s]"
          ]
        },
        {
          "output_type": "stream",
          "name": "stdout",
          "text": [
            "\n",
            "Epoch 1 complete! Validation Loss : 0.47292126644588767\n",
            "Best validation loss improved from inf to 0.47292126644588767\n",
            "\n"
          ]
        },
        {
          "output_type": "stream",
          "name": "stderr",
          "text": [
            " 10%|▉         | 624/6244 [02:16<20:27,  4.58it/s]"
          ]
        },
        {
          "output_type": "stream",
          "name": "stdout",
          "text": [
            "\n",
            "Iteration 624/6244 of epoch 2 complete. Loss : 0.24042210947626677 \n"
          ]
        },
        {
          "output_type": "stream",
          "name": "stderr",
          "text": [
            " 20%|█▉        | 1248/6244 [04:32<18:13,  4.57it/s]"
          ]
        },
        {
          "output_type": "stream",
          "name": "stdout",
          "text": [
            "\n",
            "Iteration 1248/6244 of epoch 2 complete. Loss : 0.24256092632332674 \n"
          ]
        },
        {
          "output_type": "stream",
          "name": "stderr",
          "text": [
            " 30%|██▉       | 1872/6244 [06:48<15:53,  4.59it/s]"
          ]
        },
        {
          "output_type": "stream",
          "name": "stdout",
          "text": [
            "\n",
            "Iteration 1872/6244 of epoch 2 complete. Loss : 0.23870933163337982 \n"
          ]
        },
        {
          "output_type": "stream",
          "name": "stderr",
          "text": [
            " 40%|███▉      | 2496/6244 [09:04<13:37,  4.58it/s]"
          ]
        },
        {
          "output_type": "stream",
          "name": "stdout",
          "text": [
            "\n",
            "Iteration 2496/6244 of epoch 2 complete. Loss : 0.24040618844521353 \n"
          ]
        },
        {
          "output_type": "stream",
          "name": "stderr",
          "text": [
            " 50%|████▉     | 3120/6244 [11:20<11:22,  4.58it/s]"
          ]
        },
        {
          "output_type": "stream",
          "name": "stdout",
          "text": [
            "\n",
            "Iteration 3120/6244 of epoch 2 complete. Loss : 0.24056508067326668 \n"
          ]
        },
        {
          "output_type": "stream",
          "name": "stderr",
          "text": [
            " 60%|█████▉    | 3744/6244 [13:36<09:05,  4.59it/s]"
          ]
        },
        {
          "output_type": "stream",
          "name": "stdout",
          "text": [
            "\n",
            "Iteration 3744/6244 of epoch 2 complete. Loss : 0.23654958049360758 \n"
          ]
        },
        {
          "output_type": "stream",
          "name": "stderr",
          "text": [
            " 70%|██████▉   | 4368/6244 [15:52<06:50,  4.57it/s]"
          ]
        },
        {
          "output_type": "stream",
          "name": "stdout",
          "text": [
            "\n",
            "Iteration 4368/6244 of epoch 2 complete. Loss : 0.23522920636698985 \n"
          ]
        },
        {
          "output_type": "stream",
          "name": "stderr",
          "text": [
            " 80%|███████▉  | 4992/6244 [18:08<04:32,  4.59it/s]"
          ]
        },
        {
          "output_type": "stream",
          "name": "stdout",
          "text": [
            "\n",
            "Iteration 4992/6244 of epoch 2 complete. Loss : 0.24035428841717732 \n"
          ]
        },
        {
          "output_type": "stream",
          "name": "stderr",
          "text": [
            " 90%|████████▉ | 5616/6244 [20:24<02:17,  4.58it/s]"
          ]
        },
        {
          "output_type": "stream",
          "name": "stdout",
          "text": [
            "\n",
            "Iteration 5616/6244 of epoch 2 complete. Loss : 0.23527657073468733 \n"
          ]
        },
        {
          "output_type": "stream",
          "name": "stderr",
          "text": [
            "100%|█████████▉| 6240/6244 [22:40<00:00,  4.59it/s]"
          ]
        },
        {
          "output_type": "stream",
          "name": "stdout",
          "text": [
            "\n",
            "Iteration 6240/6244 of epoch 2 complete. Loss : 0.23125852630115473 \n"
          ]
        },
        {
          "output_type": "stream",
          "name": "stderr",
          "text": [
            "100%|██████████| 6244/6244 [22:41<00:00,  4.59it/s]\n",
            "100%|██████████| 781/781 [01:03<00:00, 12.34it/s]\n",
            "  0%|          | 0/6244 [00:00<?, ?it/s]"
          ]
        },
        {
          "output_type": "stream",
          "name": "stdout",
          "text": [
            "\n",
            "Epoch 2 complete! Validation Loss : 0.46500902368225605\n",
            "Best validation loss improved from 0.47292126644588767 to 0.46500902368225605\n",
            "\n"
          ]
        },
        {
          "output_type": "stream",
          "name": "stderr",
          "text": [
            " 10%|▉         | 624/6244 [02:16<20:26,  4.58it/s]"
          ]
        },
        {
          "output_type": "stream",
          "name": "stdout",
          "text": [
            "\n",
            "Iteration 624/6244 of epoch 3 complete. Loss : 0.22991691135729736 \n"
          ]
        },
        {
          "output_type": "stream",
          "name": "stderr",
          "text": [
            " 20%|█▉        | 1248/6244 [04:32<18:11,  4.58it/s]"
          ]
        },
        {
          "output_type": "stream",
          "name": "stdout",
          "text": [
            "\n",
            "Iteration 1248/6244 of epoch 3 complete. Loss : 0.2380026673229459 \n"
          ]
        },
        {
          "output_type": "stream",
          "name": "stderr",
          "text": [
            " 30%|██▉       | 1872/6244 [06:48<15:54,  4.58it/s]"
          ]
        },
        {
          "output_type": "stream",
          "name": "stdout",
          "text": [
            "\n",
            "Iteration 1872/6244 of epoch 3 complete. Loss : 0.23347007151311025 \n"
          ]
        },
        {
          "output_type": "stream",
          "name": "stderr",
          "text": [
            " 40%|███▉      | 2496/6244 [09:04<13:37,  4.59it/s]"
          ]
        },
        {
          "output_type": "stream",
          "name": "stdout",
          "text": [
            "\n",
            "Iteration 2496/6244 of epoch 3 complete. Loss : 0.2293971095663997 \n"
          ]
        },
        {
          "output_type": "stream",
          "name": "stderr",
          "text": [
            " 50%|████▉     | 3120/6244 [11:20<11:22,  4.57it/s]"
          ]
        },
        {
          "output_type": "stream",
          "name": "stdout",
          "text": [
            "\n",
            "Iteration 3120/6244 of epoch 3 complete. Loss : 0.23374312731604546 \n"
          ]
        },
        {
          "output_type": "stream",
          "name": "stderr",
          "text": [
            " 60%|█████▉    | 3744/6244 [13:36<09:05,  4.58it/s]"
          ]
        },
        {
          "output_type": "stream",
          "name": "stdout",
          "text": [
            "\n",
            "Iteration 3744/6244 of epoch 3 complete. Loss : 0.23310349673892444 \n"
          ]
        },
        {
          "output_type": "stream",
          "name": "stderr",
          "text": [
            " 70%|██████▉   | 4368/6244 [15:52<06:49,  4.58it/s]"
          ]
        },
        {
          "output_type": "stream",
          "name": "stdout",
          "text": [
            "\n",
            "Iteration 4368/6244 of epoch 3 complete. Loss : 0.23234564495774415 \n"
          ]
        },
        {
          "output_type": "stream",
          "name": "stderr",
          "text": [
            " 80%|███████▉  | 4992/6244 [18:08<04:33,  4.58it/s]"
          ]
        },
        {
          "output_type": "stream",
          "name": "stdout",
          "text": [
            "\n",
            "Iteration 4992/6244 of epoch 3 complete. Loss : 0.22553521662186354 \n"
          ]
        },
        {
          "output_type": "stream",
          "name": "stderr",
          "text": [
            " 90%|████████▉ | 5616/6244 [20:24<02:17,  4.58it/s]"
          ]
        },
        {
          "output_type": "stream",
          "name": "stdout",
          "text": [
            "\n",
            "Iteration 5616/6244 of epoch 3 complete. Loss : 0.22601943334134725 \n"
          ]
        },
        {
          "output_type": "stream",
          "name": "stderr",
          "text": [
            "100%|█████████▉| 6240/6244 [22:40<00:00,  4.58it/s]"
          ]
        },
        {
          "output_type": "stream",
          "name": "stdout",
          "text": [
            "\n",
            "Iteration 6240/6244 of epoch 3 complete. Loss : 0.23230585529922676 \n"
          ]
        },
        {
          "output_type": "stream",
          "name": "stderr",
          "text": [
            "100%|██████████| 6244/6244 [22:41<00:00,  4.59it/s]\n",
            "100%|██████████| 781/781 [01:03<00:00, 12.34it/s]\n",
            "  0%|          | 0/6244 [00:00<?, ?it/s]"
          ]
        },
        {
          "output_type": "stream",
          "name": "stdout",
          "text": [
            "\n",
            "Epoch 3 complete! Validation Loss : 0.46212897941031317\n",
            "Best validation loss improved from 0.46500902368225605 to 0.46212897941031317\n",
            "\n"
          ]
        },
        {
          "output_type": "stream",
          "name": "stderr",
          "text": [
            " 10%|▉         | 624/6244 [02:16<20:25,  4.59it/s]"
          ]
        },
        {
          "output_type": "stream",
          "name": "stdout",
          "text": [
            "\n",
            "Iteration 624/6244 of epoch 4 complete. Loss : 0.22797506579603904 \n"
          ]
        },
        {
          "output_type": "stream",
          "name": "stderr",
          "text": [
            " 20%|█▉        | 1248/6244 [04:32<18:09,  4.58it/s]"
          ]
        },
        {
          "output_type": "stream",
          "name": "stdout",
          "text": [
            "\n",
            "Iteration 1248/6244 of epoch 4 complete. Loss : 0.23357876712599626 \n"
          ]
        },
        {
          "output_type": "stream",
          "name": "stderr",
          "text": [
            " 30%|██▉       | 1872/6244 [06:48<15:53,  4.59it/s]"
          ]
        },
        {
          "output_type": "stream",
          "name": "stdout",
          "text": [
            "\n",
            "Iteration 1872/6244 of epoch 4 complete. Loss : 0.22679377554987484 \n"
          ]
        },
        {
          "output_type": "stream",
          "name": "stderr",
          "text": [
            " 40%|███▉      | 2496/6244 [09:04<13:38,  4.58it/s]"
          ]
        },
        {
          "output_type": "stream",
          "name": "stdout",
          "text": [
            "\n",
            "Iteration 2496/6244 of epoch 4 complete. Loss : 0.2273792577191041 \n"
          ]
        },
        {
          "output_type": "stream",
          "name": "stderr",
          "text": [
            " 50%|████▉     | 3120/6244 [11:20<11:21,  4.58it/s]"
          ]
        },
        {
          "output_type": "stream",
          "name": "stdout",
          "text": [
            "\n",
            "Iteration 3120/6244 of epoch 4 complete. Loss : 0.2233300370235856 \n"
          ]
        },
        {
          "output_type": "stream",
          "name": "stderr",
          "text": [
            " 60%|█████▉    | 3744/6244 [13:36<09:04,  4.59it/s]"
          ]
        },
        {
          "output_type": "stream",
          "name": "stdout",
          "text": [
            "\n",
            "Iteration 3744/6244 of epoch 4 complete. Loss : 0.22554876528775844 \n"
          ]
        },
        {
          "output_type": "stream",
          "name": "stderr",
          "text": [
            " 70%|██████▉   | 4368/6244 [15:52<06:50,  4.57it/s]"
          ]
        },
        {
          "output_type": "stream",
          "name": "stdout",
          "text": [
            "\n",
            "Iteration 4368/6244 of epoch 4 complete. Loss : 0.2233959078693237 \n"
          ]
        },
        {
          "output_type": "stream",
          "name": "stderr",
          "text": [
            " 80%|███████▉  | 4992/6244 [18:08<04:33,  4.58it/s]"
          ]
        },
        {
          "output_type": "stream",
          "name": "stdout",
          "text": [
            "\n",
            "Iteration 4992/6244 of epoch 4 complete. Loss : 0.22122853230207395 \n"
          ]
        },
        {
          "output_type": "stream",
          "name": "stderr",
          "text": [
            " 90%|████████▉ | 5616/6244 [20:24<02:16,  4.58it/s]"
          ]
        },
        {
          "output_type": "stream",
          "name": "stdout",
          "text": [
            "\n",
            "Iteration 5616/6244 of epoch 4 complete. Loss : 0.22467362204900918 \n"
          ]
        },
        {
          "output_type": "stream",
          "name": "stderr",
          "text": [
            "100%|█████████▉| 6240/6244 [22:40<00:00,  4.59it/s]"
          ]
        },
        {
          "output_type": "stream",
          "name": "stdout",
          "text": [
            "\n",
            "Iteration 6240/6244 of epoch 4 complete. Loss : 0.2274191616437374 \n"
          ]
        },
        {
          "output_type": "stream",
          "name": "stderr",
          "text": [
            "100%|██████████| 6244/6244 [22:41<00:00,  4.59it/s]\n",
            "100%|██████████| 781/781 [01:03<00:00, 12.33it/s]\n",
            "  0%|          | 0/6244 [00:00<?, ?it/s]"
          ]
        },
        {
          "output_type": "stream",
          "name": "stdout",
          "text": [
            "\n",
            "Epoch 4 complete! Validation Loss : 0.4399142893038394\n",
            "Best validation loss improved from 0.46212897941031317 to 0.4399142893038394\n",
            "\n"
          ]
        },
        {
          "output_type": "stream",
          "name": "stderr",
          "text": [
            " 10%|▉         | 624/6244 [02:16<20:30,  4.57it/s]"
          ]
        },
        {
          "output_type": "stream",
          "name": "stdout",
          "text": [
            "\n",
            "Iteration 624/6244 of epoch 5 complete. Loss : 0.22073736863258558 \n"
          ]
        },
        {
          "output_type": "stream",
          "name": "stderr",
          "text": [
            " 20%|█▉        | 1248/6244 [04:32<18:12,  4.57it/s]"
          ]
        },
        {
          "output_type": "stream",
          "name": "stdout",
          "text": [
            "\n",
            "Iteration 1248/6244 of epoch 5 complete. Loss : 0.22457358988527304 \n"
          ]
        },
        {
          "output_type": "stream",
          "name": "stderr",
          "text": [
            " 30%|██▉       | 1872/6244 [06:48<15:54,  4.58it/s]"
          ]
        },
        {
          "output_type": "stream",
          "name": "stdout",
          "text": [
            "\n",
            "Iteration 1872/6244 of epoch 5 complete. Loss : 0.2193910336981599 \n"
          ]
        },
        {
          "output_type": "stream",
          "name": "stderr",
          "text": [
            " 40%|███▉      | 2496/6244 [09:04<13:37,  4.58it/s]"
          ]
        },
        {
          "output_type": "stream",
          "name": "stdout",
          "text": [
            "\n",
            "Iteration 2496/6244 of epoch 5 complete. Loss : 0.2161115451166645 \n"
          ]
        },
        {
          "output_type": "stream",
          "name": "stderr",
          "text": [
            " 50%|████▉     | 3120/6244 [11:20<11:20,  4.59it/s]"
          ]
        },
        {
          "output_type": "stream",
          "name": "stdout",
          "text": [
            "\n",
            "Iteration 3120/6244 of epoch 5 complete. Loss : 0.22080779987841082 \n"
          ]
        },
        {
          "output_type": "stream",
          "name": "stderr",
          "text": [
            " 60%|█████▉    | 3744/6244 [13:36<09:05,  4.58it/s]"
          ]
        },
        {
          "output_type": "stream",
          "name": "stdout",
          "text": [
            "\n",
            "Iteration 3744/6244 of epoch 5 complete. Loss : 0.2210307632549069 \n"
          ]
        },
        {
          "output_type": "stream",
          "name": "stderr",
          "text": [
            " 70%|██████▉   | 4368/6244 [15:52<06:48,  4.59it/s]"
          ]
        },
        {
          "output_type": "stream",
          "name": "stdout",
          "text": [
            "\n",
            "Iteration 4368/6244 of epoch 5 complete. Loss : 0.2198781622812534 \n"
          ]
        },
        {
          "output_type": "stream",
          "name": "stderr",
          "text": [
            " 80%|███████▉  | 4992/6244 [18:08<04:33,  4.58it/s]"
          ]
        },
        {
          "output_type": "stream",
          "name": "stdout",
          "text": [
            "\n",
            "Iteration 4992/6244 of epoch 5 complete. Loss : 0.21634769167464513 \n"
          ]
        },
        {
          "output_type": "stream",
          "name": "stderr",
          "text": [
            " 90%|████████▉ | 5616/6244 [20:24<02:17,  4.58it/s]"
          ]
        },
        {
          "output_type": "stream",
          "name": "stdout",
          "text": [
            "\n",
            "Iteration 5616/6244 of epoch 5 complete. Loss : 0.21894480175792408 \n"
          ]
        },
        {
          "output_type": "stream",
          "name": "stderr",
          "text": [
            "100%|█████████▉| 6240/6244 [22:40<00:00,  4.59it/s]"
          ]
        },
        {
          "output_type": "stream",
          "name": "stdout",
          "text": [
            "\n",
            "Iteration 6240/6244 of epoch 5 complete. Loss : 0.2174558268668942 \n"
          ]
        },
        {
          "output_type": "stream",
          "name": "stderr",
          "text": [
            "100%|██████████| 6244/6244 [22:41<00:00,  4.59it/s]\n",
            "100%|██████████| 781/781 [01:03<00:00, 12.33it/s]\n",
            "  0%|          | 0/6244 [00:00<?, ?it/s]"
          ]
        },
        {
          "output_type": "stream",
          "name": "stdout",
          "text": [
            "\n",
            "Epoch 5 complete! Validation Loss : 0.4267978705990482\n",
            "Best validation loss improved from 0.4399142893038394 to 0.4267978705990482\n",
            "\n"
          ]
        },
        {
          "output_type": "stream",
          "name": "stderr",
          "text": [
            " 10%|▉         | 624/6244 [02:16<20:24,  4.59it/s]"
          ]
        },
        {
          "output_type": "stream",
          "name": "stdout",
          "text": [
            "\n",
            "Iteration 624/6244 of epoch 6 complete. Loss : 0.2115418163772959 \n"
          ]
        },
        {
          "output_type": "stream",
          "name": "stderr",
          "text": [
            " 20%|█▉        | 1248/6244 [04:32<18:15,  4.56it/s]"
          ]
        },
        {
          "output_type": "stream",
          "name": "stdout",
          "text": [
            "\n",
            "Iteration 1248/6244 of epoch 6 complete. Loss : 0.21501150872940436 \n"
          ]
        },
        {
          "output_type": "stream",
          "name": "stderr",
          "text": [
            " 30%|██▉       | 1872/6244 [06:48<15:53,  4.58it/s]"
          ]
        },
        {
          "output_type": "stream",
          "name": "stdout",
          "text": [
            "\n",
            "Iteration 1872/6244 of epoch 6 complete. Loss : 0.2150394042285207 \n"
          ]
        },
        {
          "output_type": "stream",
          "name": "stderr",
          "text": [
            " 40%|███▉      | 2496/6244 [09:04<13:40,  4.57it/s]"
          ]
        },
        {
          "output_type": "stream",
          "name": "stdout",
          "text": [
            "\n",
            "Iteration 2496/6244 of epoch 6 complete. Loss : 0.21322198219310778 \n"
          ]
        },
        {
          "output_type": "stream",
          "name": "stderr",
          "text": [
            " 50%|████▉     | 3120/6244 [11:20<11:21,  4.58it/s]"
          ]
        },
        {
          "output_type": "stream",
          "name": "stdout",
          "text": [
            "\n",
            "Iteration 3120/6244 of epoch 6 complete. Loss : 0.2193191765497128 \n"
          ]
        },
        {
          "output_type": "stream",
          "name": "stderr",
          "text": [
            " 60%|█████▉    | 3744/6244 [13:36<09:06,  4.57it/s]"
          ]
        },
        {
          "output_type": "stream",
          "name": "stdout",
          "text": [
            "\n",
            "Iteration 3744/6244 of epoch 6 complete. Loss : 0.21652210632768962 \n"
          ]
        },
        {
          "output_type": "stream",
          "name": "stderr",
          "text": [
            " 70%|██████▉   | 4368/6244 [15:52<06:48,  4.59it/s]"
          ]
        },
        {
          "output_type": "stream",
          "name": "stdout",
          "text": [
            "\n",
            "Iteration 4368/6244 of epoch 6 complete. Loss : 0.2157361221810182 \n"
          ]
        },
        {
          "output_type": "stream",
          "name": "stderr",
          "text": [
            " 80%|███████▉  | 4992/6244 [18:08<04:32,  4.59it/s]"
          ]
        },
        {
          "output_type": "stream",
          "name": "stdout",
          "text": [
            "\n",
            "Iteration 4992/6244 of epoch 6 complete. Loss : 0.21177112399481046 \n"
          ]
        },
        {
          "output_type": "stream",
          "name": "stderr",
          "text": [
            " 90%|████████▉ | 5616/6244 [20:24<02:16,  4.59it/s]"
          ]
        },
        {
          "output_type": "stream",
          "name": "stdout",
          "text": [
            "\n",
            "Iteration 5616/6244 of epoch 6 complete. Loss : 0.21135077596856996 \n"
          ]
        },
        {
          "output_type": "stream",
          "name": "stderr",
          "text": [
            "100%|█████████▉| 6240/6244 [22:40<00:00,  4.58it/s]"
          ]
        },
        {
          "output_type": "stream",
          "name": "stdout",
          "text": [
            "\n",
            "Iteration 6240/6244 of epoch 6 complete. Loss : 0.21227412769953027 \n"
          ]
        },
        {
          "output_type": "stream",
          "name": "stderr",
          "text": [
            "100%|██████████| 6244/6244 [22:41<00:00,  4.59it/s]\n",
            "100%|██████████| 781/781 [01:03<00:00, 12.34it/s]\n",
            "  0%|          | 0/6244 [00:00<?, ?it/s]"
          ]
        },
        {
          "output_type": "stream",
          "name": "stdout",
          "text": [
            "\n",
            "Epoch 6 complete! Validation Loss : 0.42536892651290503\n",
            "Best validation loss improved from 0.4267978705990482 to 0.42536892651290503\n",
            "\n"
          ]
        },
        {
          "output_type": "stream",
          "name": "stderr",
          "text": [
            " 10%|▉         | 624/6244 [02:16<20:27,  4.58it/s]"
          ]
        },
        {
          "output_type": "stream",
          "name": "stdout",
          "text": [
            "\n",
            "Iteration 624/6244 of epoch 7 complete. Loss : 0.20914013113062352 \n"
          ]
        },
        {
          "output_type": "stream",
          "name": "stderr",
          "text": [
            " 20%|█▉        | 1248/6244 [04:32<18:08,  4.59it/s]"
          ]
        },
        {
          "output_type": "stream",
          "name": "stdout",
          "text": [
            "\n",
            "Iteration 1248/6244 of epoch 7 complete. Loss : 0.21191388299354377 \n"
          ]
        },
        {
          "output_type": "stream",
          "name": "stderr",
          "text": [
            " 30%|██▉       | 1872/6244 [06:48<15:57,  4.57it/s]"
          ]
        },
        {
          "output_type": "stream",
          "name": "stdout",
          "text": [
            "\n",
            "Iteration 1872/6244 of epoch 7 complete. Loss : 0.21575215642746443 \n"
          ]
        },
        {
          "output_type": "stream",
          "name": "stderr",
          "text": [
            " 40%|███▉      | 2496/6244 [09:04<13:37,  4.59it/s]"
          ]
        },
        {
          "output_type": "stream",
          "name": "stdout",
          "text": [
            "\n",
            "Iteration 2496/6244 of epoch 7 complete. Loss : 0.21019764319778636 \n"
          ]
        },
        {
          "output_type": "stream",
          "name": "stderr",
          "text": [
            " 50%|████▉     | 3120/6244 [11:20<11:22,  4.58it/s]"
          ]
        },
        {
          "output_type": "stream",
          "name": "stdout",
          "text": [
            "\n",
            "Iteration 3120/6244 of epoch 7 complete. Loss : 0.21014796414723 \n"
          ]
        },
        {
          "output_type": "stream",
          "name": "stderr",
          "text": [
            " 60%|█████▉    | 3744/6244 [13:36<09:05,  4.59it/s]"
          ]
        },
        {
          "output_type": "stream",
          "name": "stdout",
          "text": [
            "\n",
            "Iteration 3744/6244 of epoch 7 complete. Loss : 0.21538501039433938 \n"
          ]
        },
        {
          "output_type": "stream",
          "name": "stderr",
          "text": [
            " 70%|██████▉   | 4368/6244 [15:52<06:49,  4.58it/s]"
          ]
        },
        {
          "output_type": "stream",
          "name": "stdout",
          "text": [
            "\n",
            "Iteration 4368/6244 of epoch 7 complete. Loss : 0.2110947793086943 \n"
          ]
        },
        {
          "output_type": "stream",
          "name": "stderr",
          "text": [
            " 80%|███████▉  | 4992/6244 [18:08<04:33,  4.57it/s]"
          ]
        },
        {
          "output_type": "stream",
          "name": "stdout",
          "text": [
            "\n",
            "Iteration 4992/6244 of epoch 7 complete. Loss : 0.20815757607133725 \n"
          ]
        },
        {
          "output_type": "stream",
          "name": "stderr",
          "text": [
            " 90%|████████▉ | 5616/6244 [20:24<02:17,  4.58it/s]"
          ]
        },
        {
          "output_type": "stream",
          "name": "stdout",
          "text": [
            "\n",
            "Iteration 5616/6244 of epoch 7 complete. Loss : 0.2121788443854222 \n"
          ]
        },
        {
          "output_type": "stream",
          "name": "stderr",
          "text": [
            "100%|█████████▉| 6240/6244 [22:40<00:00,  4.59it/s]"
          ]
        },
        {
          "output_type": "stream",
          "name": "stdout",
          "text": [
            "\n",
            "Iteration 6240/6244 of epoch 7 complete. Loss : 0.20889299971839556 \n"
          ]
        },
        {
          "output_type": "stream",
          "name": "stderr",
          "text": [
            "100%|██████████| 6244/6244 [22:41<00:00,  4.59it/s]\n",
            "100%|██████████| 781/781 [01:03<00:00, 12.32it/s]\n",
            "  0%|          | 0/6244 [00:00<?, ?it/s]"
          ]
        },
        {
          "output_type": "stream",
          "name": "stdout",
          "text": [
            "\n",
            "Epoch 7 complete! Validation Loss : 0.43000888717617175\n"
          ]
        },
        {
          "output_type": "stream",
          "name": "stderr",
          "text": [
            " 10%|▉         | 624/6244 [02:16<20:24,  4.59it/s]"
          ]
        },
        {
          "output_type": "stream",
          "name": "stdout",
          "text": [
            "\n",
            "Iteration 624/6244 of epoch 8 complete. Loss : 0.20677819561499816 \n"
          ]
        },
        {
          "output_type": "stream",
          "name": "stderr",
          "text": [
            " 20%|█▉        | 1248/6244 [04:32<18:11,  4.58it/s]"
          ]
        },
        {
          "output_type": "stream",
          "name": "stdout",
          "text": [
            "\n",
            "Iteration 1248/6244 of epoch 8 complete. Loss : 0.20900335418394742 \n"
          ]
        },
        {
          "output_type": "stream",
          "name": "stderr",
          "text": [
            " 30%|██▉       | 1872/6244 [06:48<15:57,  4.57it/s]"
          ]
        },
        {
          "output_type": "stream",
          "name": "stdout",
          "text": [
            "\n",
            "Iteration 1872/6244 of epoch 8 complete. Loss : 0.20878455027317008 \n"
          ]
        },
        {
          "output_type": "stream",
          "name": "stderr",
          "text": [
            " 40%|███▉      | 2496/6244 [09:04<13:43,  4.55it/s]"
          ]
        },
        {
          "output_type": "stream",
          "name": "stdout",
          "text": [
            "\n",
            "Iteration 2496/6244 of epoch 8 complete. Loss : 0.2084426576605974 \n"
          ]
        },
        {
          "output_type": "stream",
          "name": "stderr",
          "text": [
            " 50%|████▉     | 3120/6244 [11:20<11:21,  4.58it/s]"
          ]
        },
        {
          "output_type": "stream",
          "name": "stdout",
          "text": [
            "\n",
            "Iteration 3120/6244 of epoch 8 complete. Loss : 0.21166242437007335 \n"
          ]
        },
        {
          "output_type": "stream",
          "name": "stderr",
          "text": [
            " 60%|█████▉    | 3744/6244 [13:36<09:05,  4.58it/s]"
          ]
        },
        {
          "output_type": "stream",
          "name": "stdout",
          "text": [
            "\n",
            "Iteration 3744/6244 of epoch 8 complete. Loss : 0.21127641041022846 \n"
          ]
        },
        {
          "output_type": "stream",
          "name": "stderr",
          "text": [
            " 70%|██████▉   | 4368/6244 [15:52<06:49,  4.58it/s]"
          ]
        },
        {
          "output_type": "stream",
          "name": "stdout",
          "text": [
            "\n",
            "Iteration 4368/6244 of epoch 8 complete. Loss : 0.20854688770113847 \n"
          ]
        },
        {
          "output_type": "stream",
          "name": "stderr",
          "text": [
            " 80%|███████▉  | 4992/6244 [18:08<04:33,  4.58it/s]"
          ]
        },
        {
          "output_type": "stream",
          "name": "stdout",
          "text": [
            "\n",
            "Iteration 4992/6244 of epoch 8 complete. Loss : 0.2068958341335066 \n"
          ]
        },
        {
          "output_type": "stream",
          "name": "stderr",
          "text": [
            " 90%|████████▉ | 5616/6244 [20:24<02:17,  4.57it/s]"
          ]
        },
        {
          "output_type": "stream",
          "name": "stdout",
          "text": [
            "\n",
            "Iteration 5616/6244 of epoch 8 complete. Loss : 0.20877530036541897 \n"
          ]
        },
        {
          "output_type": "stream",
          "name": "stderr",
          "text": [
            "100%|█████████▉| 6240/6244 [22:41<00:00,  4.58it/s]"
          ]
        },
        {
          "output_type": "stream",
          "name": "stdout",
          "text": [
            "\n",
            "Iteration 6240/6244 of epoch 8 complete. Loss : 0.20757556040413105 \n"
          ]
        },
        {
          "output_type": "stream",
          "name": "stderr",
          "text": [
            "100%|██████████| 6244/6244 [22:41<00:00,  4.58it/s]\n",
            "100%|██████████| 781/781 [01:03<00:00, 12.31it/s]\n",
            "  0%|          | 0/6244 [00:00<?, ?it/s]"
          ]
        },
        {
          "output_type": "stream",
          "name": "stdout",
          "text": [
            "\n",
            "Epoch 8 complete! Validation Loss : 0.4133752287769745\n",
            "Best validation loss improved from 0.42536892651290503 to 0.4133752287769745\n",
            "\n"
          ]
        },
        {
          "output_type": "stream",
          "name": "stderr",
          "text": [
            " 10%|▉         | 624/6244 [02:16<20:30,  4.57it/s]"
          ]
        },
        {
          "output_type": "stream",
          "name": "stdout",
          "text": [
            "\n",
            "Iteration 624/6244 of epoch 9 complete. Loss : 0.20787133154674217 \n"
          ]
        },
        {
          "output_type": "stream",
          "name": "stderr",
          "text": [
            " 20%|█▉        | 1248/6244 [04:32<18:10,  4.58it/s]"
          ]
        },
        {
          "output_type": "stream",
          "name": "stdout",
          "text": [
            "\n",
            "Iteration 1248/6244 of epoch 9 complete. Loss : 0.20893842063080043 \n"
          ]
        },
        {
          "output_type": "stream",
          "name": "stderr",
          "text": [
            " 30%|██▉       | 1872/6244 [06:48<15:55,  4.58it/s]"
          ]
        },
        {
          "output_type": "stream",
          "name": "stdout",
          "text": [
            "\n",
            "Iteration 1872/6244 of epoch 9 complete. Loss : 0.20634127950343567 \n"
          ]
        },
        {
          "output_type": "stream",
          "name": "stderr",
          "text": [
            " 40%|███▉      | 2496/6244 [09:04<13:37,  4.58it/s]"
          ]
        },
        {
          "output_type": "stream",
          "name": "stdout",
          "text": [
            "\n",
            "Iteration 2496/6244 of epoch 9 complete. Loss : 0.20462286221579865 \n"
          ]
        },
        {
          "output_type": "stream",
          "name": "stderr",
          "text": [
            " 50%|████▉     | 3120/6244 [11:20<11:24,  4.57it/s]"
          ]
        },
        {
          "output_type": "stream",
          "name": "stdout",
          "text": [
            "\n",
            "Iteration 3120/6244 of epoch 9 complete. Loss : 0.20676962107133406 \n"
          ]
        },
        {
          "output_type": "stream",
          "name": "stderr",
          "text": [
            " 60%|█████▉    | 3744/6244 [13:36<09:04,  4.59it/s]"
          ]
        },
        {
          "output_type": "stream",
          "name": "stdout",
          "text": [
            "\n",
            "Iteration 3744/6244 of epoch 9 complete. Loss : 0.20682924994243643 \n"
          ]
        },
        {
          "output_type": "stream",
          "name": "stderr",
          "text": [
            " 70%|██████▉   | 4368/6244 [15:53<06:50,  4.57it/s]"
          ]
        },
        {
          "output_type": "stream",
          "name": "stdout",
          "text": [
            "\n",
            "Iteration 4368/6244 of epoch 9 complete. Loss : 0.20741019141263303 \n"
          ]
        },
        {
          "output_type": "stream",
          "name": "stderr",
          "text": [
            " 80%|███████▉  | 4992/6244 [18:09<04:33,  4.57it/s]"
          ]
        },
        {
          "output_type": "stream",
          "name": "stdout",
          "text": [
            "\n",
            "Iteration 4992/6244 of epoch 9 complete. Loss : 0.20588213697266886 \n"
          ]
        },
        {
          "output_type": "stream",
          "name": "stderr",
          "text": [
            " 90%|████████▉ | 5616/6244 [20:25<02:17,  4.58it/s]"
          ]
        },
        {
          "output_type": "stream",
          "name": "stdout",
          "text": [
            "\n",
            "Iteration 5616/6244 of epoch 9 complete. Loss : 0.20738985664091814 \n"
          ]
        },
        {
          "output_type": "stream",
          "name": "stderr",
          "text": [
            "100%|█████████▉| 6240/6244 [22:42<00:00,  4.58it/s]"
          ]
        },
        {
          "output_type": "stream",
          "name": "stdout",
          "text": [
            "\n",
            "Iteration 6240/6244 of epoch 9 complete. Loss : 0.20593790012674454 \n"
          ]
        },
        {
          "output_type": "stream",
          "name": "stderr",
          "text": [
            "100%|██████████| 6244/6244 [22:42<00:00,  4.58it/s]\n",
            "100%|██████████| 781/781 [01:03<00:00, 12.30it/s]\n",
            "  0%|          | 0/6244 [00:00<?, ?it/s]"
          ]
        },
        {
          "output_type": "stream",
          "name": "stdout",
          "text": [
            "\n",
            "Epoch 9 complete! Validation Loss : 0.4110010450803669\n",
            "Best validation loss improved from 0.4133752287769745 to 0.4110010450803669\n",
            "\n"
          ]
        },
        {
          "output_type": "stream",
          "name": "stderr",
          "text": [
            " 10%|▉         | 624/6244 [02:16<20:29,  4.57it/s]"
          ]
        },
        {
          "output_type": "stream",
          "name": "stdout",
          "text": [
            "\n",
            "Iteration 624/6244 of epoch 10 complete. Loss : 0.20492011414936337 \n"
          ]
        },
        {
          "output_type": "stream",
          "name": "stderr",
          "text": [
            " 20%|█▉        | 1248/6244 [04:32<18:14,  4.56it/s]"
          ]
        },
        {
          "output_type": "stream",
          "name": "stdout",
          "text": [
            "\n",
            "Iteration 1248/6244 of epoch 10 complete. Loss : 0.20831168743853384 \n"
          ]
        },
        {
          "output_type": "stream",
          "name": "stderr",
          "text": [
            " 30%|██▉       | 1872/6244 [06:48<15:58,  4.56it/s]"
          ]
        },
        {
          "output_type": "stream",
          "name": "stdout",
          "text": [
            "\n",
            "Iteration 1872/6244 of epoch 10 complete. Loss : 0.20810194874707705 \n"
          ]
        },
        {
          "output_type": "stream",
          "name": "stderr",
          "text": [
            " 40%|███▉      | 2496/6244 [09:05<13:39,  4.58it/s]"
          ]
        },
        {
          "output_type": "stream",
          "name": "stdout",
          "text": [
            "\n",
            "Iteration 2496/6244 of epoch 10 complete. Loss : 0.20498674742590922 \n"
          ]
        },
        {
          "output_type": "stream",
          "name": "stderr",
          "text": [
            " 50%|████▉     | 3120/6244 [11:21<11:23,  4.57it/s]"
          ]
        },
        {
          "output_type": "stream",
          "name": "stdout",
          "text": [
            "\n",
            "Iteration 3120/6244 of epoch 10 complete. Loss : 0.205266795001733 \n"
          ]
        },
        {
          "output_type": "stream",
          "name": "stderr",
          "text": [
            " 60%|█████▉    | 3744/6244 [13:37<09:05,  4.58it/s]"
          ]
        },
        {
          "output_type": "stream",
          "name": "stdout",
          "text": [
            "\n",
            "Iteration 3744/6244 of epoch 10 complete. Loss : 0.20510078970199594 \n"
          ]
        },
        {
          "output_type": "stream",
          "name": "stderr",
          "text": [
            " 70%|██████▉   | 4368/6244 [15:53<06:50,  4.57it/s]"
          ]
        },
        {
          "output_type": "stream",
          "name": "stdout",
          "text": [
            "\n",
            "Iteration 4368/6244 of epoch 10 complete. Loss : 0.2054863644596667 \n"
          ]
        },
        {
          "output_type": "stream",
          "name": "stderr",
          "text": [
            " 80%|███████▉  | 4992/6244 [18:10<04:34,  4.57it/s]"
          ]
        },
        {
          "output_type": "stream",
          "name": "stdout",
          "text": [
            "\n",
            "Iteration 4992/6244 of epoch 10 complete. Loss : 0.20480434268187636 \n"
          ]
        },
        {
          "output_type": "stream",
          "name": "stderr",
          "text": [
            " 90%|████████▉ | 5616/6244 [20:26<02:17,  4.57it/s]"
          ]
        },
        {
          "output_type": "stream",
          "name": "stdout",
          "text": [
            "\n",
            "Iteration 5616/6244 of epoch 10 complete. Loss : 0.2054674023619065 \n"
          ]
        },
        {
          "output_type": "stream",
          "name": "stderr",
          "text": [
            "100%|█████████▉| 6240/6244 [22:42<00:00,  4.57it/s]"
          ]
        },
        {
          "output_type": "stream",
          "name": "stdout",
          "text": [
            "\n",
            "Iteration 6240/6244 of epoch 10 complete. Loss : 0.2062393752261041 \n"
          ]
        },
        {
          "output_type": "stream",
          "name": "stderr",
          "text": [
            "100%|██████████| 6244/6244 [22:43<00:00,  4.58it/s]\n",
            "100%|██████████| 781/781 [01:03<00:00, 12.30it/s]\n",
            "  0%|          | 0/6244 [00:00<?, ?it/s]"
          ]
        },
        {
          "output_type": "stream",
          "name": "stdout",
          "text": [
            "\n",
            "Epoch 10 complete! Validation Loss : 0.4084064777888043\n",
            "Best validation loss improved from 0.4110010450803669 to 0.4084064777888043\n",
            "\n"
          ]
        },
        {
          "output_type": "stream",
          "name": "stderr",
          "text": [
            " 10%|▉         | 624/6244 [02:16<20:26,  4.58it/s]"
          ]
        },
        {
          "output_type": "stream",
          "name": "stdout",
          "text": [
            "\n",
            "Iteration 624/6244 of epoch 11 complete. Loss : 0.20235474051859897 \n"
          ]
        },
        {
          "output_type": "stream",
          "name": "stderr",
          "text": [
            " 20%|█▉        | 1248/6244 [04:32<18:09,  4.59it/s]"
          ]
        },
        {
          "output_type": "stream",
          "name": "stdout",
          "text": [
            "\n",
            "Iteration 1248/6244 of epoch 11 complete. Loss : 0.20513682693051985 \n"
          ]
        },
        {
          "output_type": "stream",
          "name": "stderr",
          "text": [
            " 30%|██▉       | 1872/6244 [06:48<15:56,  4.57it/s]"
          ]
        },
        {
          "output_type": "stream",
          "name": "stdout",
          "text": [
            "\n",
            "Iteration 1872/6244 of epoch 11 complete. Loss : 0.2040458157634697 \n"
          ]
        },
        {
          "output_type": "stream",
          "name": "stderr",
          "text": [
            " 40%|███▉      | 2496/6244 [09:05<13:39,  4.57it/s]"
          ]
        },
        {
          "output_type": "stream",
          "name": "stdout",
          "text": [
            "\n",
            "Iteration 2496/6244 of epoch 11 complete. Loss : 0.20270538601116875 \n"
          ]
        },
        {
          "output_type": "stream",
          "name": "stderr",
          "text": [
            " 50%|████▉     | 3120/6244 [11:21<11:20,  4.59it/s]"
          ]
        },
        {
          "output_type": "stream",
          "name": "stdout",
          "text": [
            "\n",
            "Iteration 3120/6244 of epoch 11 complete. Loss : 0.20380448885500813 \n"
          ]
        },
        {
          "output_type": "stream",
          "name": "stderr",
          "text": [
            " 60%|█████▉    | 3744/6244 [13:37<09:06,  4.58it/s]"
          ]
        },
        {
          "output_type": "stream",
          "name": "stdout",
          "text": [
            "\n",
            "Iteration 3744/6244 of epoch 11 complete. Loss : 0.20409179414407566 \n"
          ]
        },
        {
          "output_type": "stream",
          "name": "stderr",
          "text": [
            " 70%|██████▉   | 4368/6244 [15:53<06:49,  4.59it/s]"
          ]
        },
        {
          "output_type": "stream",
          "name": "stdout",
          "text": [
            "\n",
            "Iteration 4368/6244 of epoch 11 complete. Loss : 0.20509476938213295 \n"
          ]
        },
        {
          "output_type": "stream",
          "name": "stderr",
          "text": [
            " 80%|███████▉  | 4992/6244 [18:09<04:32,  4.59it/s]"
          ]
        },
        {
          "output_type": "stream",
          "name": "stdout",
          "text": [
            "\n",
            "Iteration 4992/6244 of epoch 11 complete. Loss : 0.20419504206914169 \n"
          ]
        },
        {
          "output_type": "stream",
          "name": "stderr",
          "text": [
            " 90%|████████▉ | 5616/6244 [20:25<02:16,  4.59it/s]"
          ]
        },
        {
          "output_type": "stream",
          "name": "stdout",
          "text": [
            "\n",
            "Iteration 5616/6244 of epoch 11 complete. Loss : 0.20495869818692788 \n"
          ]
        },
        {
          "output_type": "stream",
          "name": "stderr",
          "text": [
            "100%|█████████▉| 6240/6244 [22:41<00:00,  4.56it/s]"
          ]
        },
        {
          "output_type": "stream",
          "name": "stdout",
          "text": [
            "\n",
            "Iteration 6240/6244 of epoch 11 complete. Loss : 0.20300846084809074 \n"
          ]
        },
        {
          "output_type": "stream",
          "name": "stderr",
          "text": [
            "100%|██████████| 6244/6244 [22:42<00:00,  4.58it/s]\n",
            "100%|██████████| 781/781 [01:03<00:00, 12.33it/s]\n",
            "  0%|          | 0/6244 [00:00<?, ?it/s]"
          ]
        },
        {
          "output_type": "stream",
          "name": "stdout",
          "text": [
            "\n",
            "Epoch 11 complete! Validation Loss : 0.40756769613786176\n",
            "Best validation loss improved from 0.4084064777888043 to 0.40756769613786176\n",
            "\n"
          ]
        },
        {
          "output_type": "stream",
          "name": "stderr",
          "text": [
            " 10%|▉         | 624/6244 [02:16<20:27,  4.58it/s]"
          ]
        },
        {
          "output_type": "stream",
          "name": "stdout",
          "text": [
            "\n",
            "Iteration 624/6244 of epoch 12 complete. Loss : 0.20040419067327792 \n"
          ]
        },
        {
          "output_type": "stream",
          "name": "stderr",
          "text": [
            " 20%|█▉        | 1248/6244 [04:32<18:07,  4.60it/s]"
          ]
        },
        {
          "output_type": "stream",
          "name": "stdout",
          "text": [
            "\n",
            "Iteration 1248/6244 of epoch 12 complete. Loss : 0.20357023128188956 \n"
          ]
        },
        {
          "output_type": "stream",
          "name": "stderr",
          "text": [
            " 30%|██▉       | 1872/6244 [06:48<15:57,  4.56it/s]"
          ]
        },
        {
          "output_type": "stream",
          "name": "stdout",
          "text": [
            "\n",
            "Iteration 1872/6244 of epoch 12 complete. Loss : 0.2032933095947672 \n"
          ]
        },
        {
          "output_type": "stream",
          "name": "stderr",
          "text": [
            " 40%|███▉      | 2496/6244 [09:04<13:37,  4.59it/s]"
          ]
        },
        {
          "output_type": "stream",
          "name": "stdout",
          "text": [
            "\n",
            "Iteration 2496/6244 of epoch 12 complete. Loss : 0.20198259526529375 \n"
          ]
        },
        {
          "output_type": "stream",
          "name": "stderr",
          "text": [
            " 50%|████▉     | 3120/6244 [11:20<11:21,  4.59it/s]"
          ]
        },
        {
          "output_type": "stream",
          "name": "stdout",
          "text": [
            "\n",
            "Iteration 3120/6244 of epoch 12 complete. Loss : 0.20274898130446672 \n"
          ]
        },
        {
          "output_type": "stream",
          "name": "stderr",
          "text": [
            " 60%|█████▉    | 3744/6244 [13:36<09:05,  4.58it/s]"
          ]
        },
        {
          "output_type": "stream",
          "name": "stdout",
          "text": [
            "\n",
            "Iteration 3744/6244 of epoch 12 complete. Loss : 0.202870585084057 \n"
          ]
        },
        {
          "output_type": "stream",
          "name": "stderr",
          "text": [
            " 70%|██████▉   | 4368/6244 [15:52<06:48,  4.59it/s]"
          ]
        },
        {
          "output_type": "stream",
          "name": "stdout",
          "text": [
            "\n",
            "Iteration 4368/6244 of epoch 12 complete. Loss : 0.20219401482683727 \n"
          ]
        },
        {
          "output_type": "stream",
          "name": "stderr",
          "text": [
            " 80%|███████▉  | 4992/6244 [18:08<04:34,  4.56it/s]"
          ]
        },
        {
          "output_type": "stream",
          "name": "stdout",
          "text": [
            "\n",
            "Iteration 4992/6244 of epoch 12 complete. Loss : 0.2019946091593458 \n"
          ]
        },
        {
          "output_type": "stream",
          "name": "stderr",
          "text": [
            " 90%|████████▉ | 5616/6244 [20:24<02:16,  4.59it/s]"
          ]
        },
        {
          "output_type": "stream",
          "name": "stdout",
          "text": [
            "\n",
            "Iteration 5616/6244 of epoch 12 complete. Loss : 0.20445706124584645 \n"
          ]
        },
        {
          "output_type": "stream",
          "name": "stderr",
          "text": [
            "100%|█████████▉| 6240/6244 [22:40<00:00,  4.59it/s]"
          ]
        },
        {
          "output_type": "stream",
          "name": "stdout",
          "text": [
            "\n",
            "Iteration 6240/6244 of epoch 12 complete. Loss : 0.20178170836506745 \n"
          ]
        },
        {
          "output_type": "stream",
          "name": "stderr",
          "text": [
            "100%|██████████| 6244/6244 [22:41<00:00,  4.59it/s]\n",
            "100%|██████████| 781/781 [01:03<00:00, 12.33it/s]\n",
            "  0%|          | 0/6244 [00:00<?, ?it/s]"
          ]
        },
        {
          "output_type": "stream",
          "name": "stdout",
          "text": [
            "\n",
            "Epoch 12 complete! Validation Loss : 0.4033249343975558\n",
            "Best validation loss improved from 0.40756769613786176 to 0.4033249343975558\n",
            "\n"
          ]
        },
        {
          "output_type": "stream",
          "name": "stderr",
          "text": [
            " 10%|▉         | 624/6244 [02:16<20:29,  4.57it/s]"
          ]
        },
        {
          "output_type": "stream",
          "name": "stdout",
          "text": [
            "\n",
            "Iteration 624/6244 of epoch 13 complete. Loss : 0.20003974817406672 \n"
          ]
        },
        {
          "output_type": "stream",
          "name": "stderr",
          "text": [
            " 20%|█▉        | 1248/6244 [04:32<18:08,  4.59it/s]"
          ]
        },
        {
          "output_type": "stream",
          "name": "stdout",
          "text": [
            "\n",
            "Iteration 1248/6244 of epoch 13 complete. Loss : 0.2036584410100029 \n"
          ]
        },
        {
          "output_type": "stream",
          "name": "stderr",
          "text": [
            " 30%|██▉       | 1872/6244 [06:48<15:56,  4.57it/s]"
          ]
        },
        {
          "output_type": "stream",
          "name": "stdout",
          "text": [
            "\n",
            "Iteration 1872/6244 of epoch 13 complete. Loss : 0.20283097594689864 \n"
          ]
        },
        {
          "output_type": "stream",
          "name": "stderr",
          "text": [
            " 40%|███▉      | 2496/6244 [09:04<13:38,  4.58it/s]"
          ]
        },
        {
          "output_type": "stream",
          "name": "stdout",
          "text": [
            "\n",
            "Iteration 2496/6244 of epoch 13 complete. Loss : 0.20044313002234468 \n"
          ]
        },
        {
          "output_type": "stream",
          "name": "stderr",
          "text": [
            " 50%|████▉     | 3120/6244 [11:20<11:23,  4.57it/s]"
          ]
        },
        {
          "output_type": "stream",
          "name": "stdout",
          "text": [
            "\n",
            "Iteration 3120/6244 of epoch 13 complete. Loss : 0.20153650684425464 \n"
          ]
        },
        {
          "output_type": "stream",
          "name": "stderr",
          "text": [
            " 60%|█████▉    | 3744/6244 [13:36<09:06,  4.58it/s]"
          ]
        },
        {
          "output_type": "stream",
          "name": "stdout",
          "text": [
            "\n",
            "Iteration 3744/6244 of epoch 13 complete. Loss : 0.2012887715887374 \n"
          ]
        },
        {
          "output_type": "stream",
          "name": "stderr",
          "text": [
            " 70%|██████▉   | 4368/6244 [15:52<06:48,  4.59it/s]"
          ]
        },
        {
          "output_type": "stream",
          "name": "stdout",
          "text": [
            "\n",
            "Iteration 4368/6244 of epoch 13 complete. Loss : 0.20120782793189088 \n"
          ]
        },
        {
          "output_type": "stream",
          "name": "stderr",
          "text": [
            " 80%|███████▉  | 4992/6244 [18:08<04:33,  4.58it/s]"
          ]
        },
        {
          "output_type": "stream",
          "name": "stdout",
          "text": [
            "\n",
            "Iteration 4992/6244 of epoch 13 complete. Loss : 0.20138541193535694 \n"
          ]
        },
        {
          "output_type": "stream",
          "name": "stderr",
          "text": [
            " 90%|████████▉ | 5616/6244 [20:24<02:17,  4.58it/s]"
          ]
        },
        {
          "output_type": "stream",
          "name": "stdout",
          "text": [
            "\n",
            "Iteration 5616/6244 of epoch 13 complete. Loss : 0.20175063888279673 \n"
          ]
        },
        {
          "output_type": "stream",
          "name": "stderr",
          "text": [
            "100%|█████████▉| 6240/6244 [22:40<00:00,  4.58it/s]"
          ]
        },
        {
          "output_type": "stream",
          "name": "stdout",
          "text": [
            "\n",
            "Iteration 6240/6244 of epoch 13 complete. Loss : 0.20012603470912346 \n"
          ]
        },
        {
          "output_type": "stream",
          "name": "stderr",
          "text": [
            "100%|██████████| 6244/6244 [22:41<00:00,  4.59it/s]\n",
            "100%|██████████| 781/781 [01:03<00:00, 12.34it/s]\n",
            "  0%|          | 0/6244 [00:00<?, ?it/s]"
          ]
        },
        {
          "output_type": "stream",
          "name": "stdout",
          "text": [
            "\n",
            "Epoch 13 complete! Validation Loss : 0.40183799039386453\n",
            "Best validation loss improved from 0.4033249343975558 to 0.40183799039386453\n",
            "\n"
          ]
        },
        {
          "output_type": "stream",
          "name": "stderr",
          "text": [
            " 10%|▉         | 624/6244 [02:16<20:25,  4.58it/s]"
          ]
        },
        {
          "output_type": "stream",
          "name": "stdout",
          "text": [
            "\n",
            "Iteration 624/6244 of epoch 14 complete. Loss : 0.1978513623993748 \n"
          ]
        },
        {
          "output_type": "stream",
          "name": "stderr",
          "text": [
            " 20%|█▉        | 1248/6244 [04:32<18:13,  4.57it/s]"
          ]
        },
        {
          "output_type": "stream",
          "name": "stdout",
          "text": [
            "\n",
            "Iteration 1248/6244 of epoch 14 complete. Loss : 0.2013009557237801 \n"
          ]
        },
        {
          "output_type": "stream",
          "name": "stderr",
          "text": [
            " 30%|██▉       | 1872/6244 [06:48<15:53,  4.58it/s]"
          ]
        },
        {
          "output_type": "stream",
          "name": "stdout",
          "text": [
            "\n",
            "Iteration 1872/6244 of epoch 14 complete. Loss : 0.2009463014964683 \n"
          ]
        },
        {
          "output_type": "stream",
          "name": "stderr",
          "text": [
            " 40%|███▉      | 2496/6244 [09:04<13:37,  4.58it/s]"
          ]
        },
        {
          "output_type": "stream",
          "name": "stdout",
          "text": [
            "\n",
            "Iteration 2496/6244 of epoch 14 complete. Loss : 0.19948910846589848 \n"
          ]
        },
        {
          "output_type": "stream",
          "name": "stderr",
          "text": [
            " 50%|████▉     | 3120/6244 [11:20<11:23,  4.57it/s]"
          ]
        },
        {
          "output_type": "stream",
          "name": "stdout",
          "text": [
            "\n",
            "Iteration 3120/6244 of epoch 14 complete. Loss : 0.20098292450301158 \n"
          ]
        },
        {
          "output_type": "stream",
          "name": "stderr",
          "text": [
            " 60%|█████▉    | 3744/6244 [13:36<09:04,  4.59it/s]"
          ]
        },
        {
          "output_type": "stream",
          "name": "stdout",
          "text": [
            "\n",
            "Iteration 3744/6244 of epoch 14 complete. Loss : 0.20133199122471687 \n"
          ]
        },
        {
          "output_type": "stream",
          "name": "stderr",
          "text": [
            " 70%|██████▉   | 4368/6244 [15:52<06:48,  4.59it/s]"
          ]
        },
        {
          "output_type": "stream",
          "name": "stdout",
          "text": [
            "\n",
            "Iteration 4368/6244 of epoch 14 complete. Loss : 0.19999141616221422 \n"
          ]
        },
        {
          "output_type": "stream",
          "name": "stderr",
          "text": [
            " 80%|███████▉  | 4992/6244 [18:08<04:32,  4.59it/s]"
          ]
        },
        {
          "output_type": "stream",
          "name": "stdout",
          "text": [
            "\n",
            "Iteration 4992/6244 of epoch 14 complete. Loss : 0.19980892362311864 \n"
          ]
        },
        {
          "output_type": "stream",
          "name": "stderr",
          "text": [
            " 90%|████████▉ | 5616/6244 [20:24<02:17,  4.58it/s]"
          ]
        },
        {
          "output_type": "stream",
          "name": "stdout",
          "text": [
            "\n",
            "Iteration 5616/6244 of epoch 14 complete. Loss : 0.20161620950183043 \n"
          ]
        },
        {
          "output_type": "stream",
          "name": "stderr",
          "text": [
            "100%|█████████▉| 6240/6244 [22:40<00:00,  4.58it/s]"
          ]
        },
        {
          "output_type": "stream",
          "name": "stdout",
          "text": [
            "\n",
            "Iteration 6240/6244 of epoch 14 complete. Loss : 0.19984222636916316 \n"
          ]
        },
        {
          "output_type": "stream",
          "name": "stderr",
          "text": [
            "100%|██████████| 6244/6244 [22:41<00:00,  4.59it/s]\n",
            "100%|██████████| 781/781 [01:03<00:00, 12.33it/s]\n",
            "  0%|          | 0/6244 [00:00<?, ?it/s]"
          ]
        },
        {
          "output_type": "stream",
          "name": "stdout",
          "text": [
            "\n",
            "Epoch 14 complete! Validation Loss : 0.40061460334268634\n",
            "Best validation loss improved from 0.40183799039386453 to 0.40061460334268634\n",
            "\n"
          ]
        },
        {
          "output_type": "stream",
          "name": "stderr",
          "text": [
            " 10%|▉         | 624/6244 [02:16<20:29,  4.57it/s]"
          ]
        },
        {
          "output_type": "stream",
          "name": "stdout",
          "text": [
            "\n",
            "Iteration 624/6244 of epoch 15 complete. Loss : 0.1963229088160472 \n"
          ]
        },
        {
          "output_type": "stream",
          "name": "stderr",
          "text": [
            " 20%|█▉        | 1248/6244 [04:32<18:09,  4.59it/s]"
          ]
        },
        {
          "output_type": "stream",
          "name": "stdout",
          "text": [
            "\n",
            "Iteration 1248/6244 of epoch 15 complete. Loss : 0.20019281895544666 \n"
          ]
        },
        {
          "output_type": "stream",
          "name": "stderr",
          "text": [
            " 30%|██▉       | 1872/6244 [06:48<15:55,  4.57it/s]"
          ]
        },
        {
          "output_type": "stream",
          "name": "stdout",
          "text": [
            "\n",
            "Iteration 1872/6244 of epoch 15 complete. Loss : 0.1992189368018164 \n"
          ]
        },
        {
          "output_type": "stream",
          "name": "stderr",
          "text": [
            " 40%|███▉      | 2496/6244 [09:04<13:36,  4.59it/s]"
          ]
        },
        {
          "output_type": "stream",
          "name": "stdout",
          "text": [
            "\n",
            "Iteration 2496/6244 of epoch 15 complete. Loss : 0.19798499115336782 \n"
          ]
        },
        {
          "output_type": "stream",
          "name": "stderr",
          "text": [
            " 50%|████▉     | 3120/6244 [11:20<11:20,  4.59it/s]"
          ]
        },
        {
          "output_type": "stream",
          "name": "stdout",
          "text": [
            "\n",
            "Iteration 3120/6244 of epoch 15 complete. Loss : 0.1998343568844482 \n"
          ]
        },
        {
          "output_type": "stream",
          "name": "stderr",
          "text": [
            " 60%|█████▉    | 3744/6244 [13:36<09:05,  4.58it/s]"
          ]
        },
        {
          "output_type": "stream",
          "name": "stdout",
          "text": [
            "\n",
            "Iteration 3744/6244 of epoch 15 complete. Loss : 0.20022664516447827 \n"
          ]
        },
        {
          "output_type": "stream",
          "name": "stderr",
          "text": [
            " 70%|██████▉   | 4368/6244 [15:52<06:49,  4.58it/s]"
          ]
        },
        {
          "output_type": "stream",
          "name": "stdout",
          "text": [
            "\n",
            "Iteration 4368/6244 of epoch 15 complete. Loss : 0.19840425597981382 \n"
          ]
        },
        {
          "output_type": "stream",
          "name": "stderr",
          "text": [
            " 80%|███████▉  | 4992/6244 [18:08<04:32,  4.59it/s]"
          ]
        },
        {
          "output_type": "stream",
          "name": "stdout",
          "text": [
            "\n",
            "Iteration 4992/6244 of epoch 15 complete. Loss : 0.1987865312765233 \n"
          ]
        },
        {
          "output_type": "stream",
          "name": "stderr",
          "text": [
            " 90%|████████▉ | 5616/6244 [20:25<02:17,  4.57it/s]"
          ]
        },
        {
          "output_type": "stream",
          "name": "stdout",
          "text": [
            "\n",
            "Iteration 5616/6244 of epoch 15 complete. Loss : 0.20050483908599767 \n"
          ]
        },
        {
          "output_type": "stream",
          "name": "stderr",
          "text": [
            "100%|█████████▉| 6240/6244 [22:41<00:00,  4.55it/s]"
          ]
        },
        {
          "output_type": "stream",
          "name": "stdout",
          "text": [
            "\n",
            "Iteration 6240/6244 of epoch 15 complete. Loss : 0.19827416112933022 \n"
          ]
        },
        {
          "output_type": "stream",
          "name": "stderr",
          "text": [
            "100%|██████████| 6244/6244 [22:42<00:00,  4.58it/s]\n",
            "100%|██████████| 781/781 [01:03<00:00, 12.24it/s]\n",
            "  0%|          | 0/6244 [00:00<?, ?it/s]"
          ]
        },
        {
          "output_type": "stream",
          "name": "stdout",
          "text": [
            "\n",
            "Epoch 15 complete! Validation Loss : 0.4008210504406088\n"
          ]
        },
        {
          "output_type": "stream",
          "name": "stderr",
          "text": [
            " 10%|▉         | 624/6244 [02:16<20:30,  4.57it/s]"
          ]
        },
        {
          "output_type": "stream",
          "name": "stdout",
          "text": [
            "\n",
            "Iteration 624/6244 of epoch 16 complete. Loss : 0.19505183088282743 \n"
          ]
        },
        {
          "output_type": "stream",
          "name": "stderr",
          "text": [
            " 20%|█▉        | 1248/6244 [04:33<18:15,  4.56it/s]"
          ]
        },
        {
          "output_type": "stream",
          "name": "stdout",
          "text": [
            "\n",
            "Iteration 1248/6244 of epoch 16 complete. Loss : 0.19913204924131817 \n"
          ]
        },
        {
          "output_type": "stream",
          "name": "stderr",
          "text": [
            " 30%|██▉       | 1872/6244 [06:50<16:00,  4.55it/s]"
          ]
        },
        {
          "output_type": "stream",
          "name": "stdout",
          "text": [
            "\n",
            "Iteration 1872/6244 of epoch 16 complete. Loss : 0.1981896567874803 \n"
          ]
        },
        {
          "output_type": "stream",
          "name": "stderr",
          "text": [
            " 40%|███▉      | 2496/6244 [09:06<13:43,  4.55it/s]"
          ]
        },
        {
          "output_type": "stream",
          "name": "stdout",
          "text": [
            "\n",
            "Iteration 2496/6244 of epoch 16 complete. Loss : 0.19687525119680244 \n"
          ]
        },
        {
          "output_type": "stream",
          "name": "stderr",
          "text": [
            " 50%|████▉     | 3120/6244 [11:23<11:24,  4.57it/s]"
          ]
        },
        {
          "output_type": "stream",
          "name": "stdout",
          "text": [
            "\n",
            "Iteration 3120/6244 of epoch 16 complete. Loss : 0.19847361652705914 \n"
          ]
        },
        {
          "output_type": "stream",
          "name": "stderr",
          "text": [
            " 60%|█████▉    | 3744/6244 [13:40<09:08,  4.56it/s]"
          ]
        },
        {
          "output_type": "stream",
          "name": "stdout",
          "text": [
            "\n",
            "Iteration 3744/6244 of epoch 16 complete. Loss : 0.19843192781823185 \n"
          ]
        },
        {
          "output_type": "stream",
          "name": "stderr",
          "text": [
            " 70%|██████▉   | 4368/6244 [15:56<06:51,  4.56it/s]"
          ]
        },
        {
          "output_type": "stream",
          "name": "stdout",
          "text": [
            "\n",
            "Iteration 4368/6244 of epoch 16 complete. Loss : 0.1973344995520818 \n"
          ]
        },
        {
          "output_type": "stream",
          "name": "stderr",
          "text": [
            " 80%|███████▉  | 4992/6244 [18:13<04:34,  4.56it/s]"
          ]
        },
        {
          "output_type": "stream",
          "name": "stdout",
          "text": [
            "\n",
            "Iteration 4992/6244 of epoch 16 complete. Loss : 0.19786497850257617 \n"
          ]
        },
        {
          "output_type": "stream",
          "name": "stderr",
          "text": [
            " 90%|████████▉ | 5616/6244 [20:30<02:17,  4.56it/s]"
          ]
        },
        {
          "output_type": "stream",
          "name": "stdout",
          "text": [
            "\n",
            "Iteration 5616/6244 of epoch 16 complete. Loss : 0.19874966077697584 \n"
          ]
        },
        {
          "output_type": "stream",
          "name": "stderr",
          "text": [
            "100%|█████████▉| 6240/6244 [22:47<00:00,  4.54it/s]"
          ]
        },
        {
          "output_type": "stream",
          "name": "stdout",
          "text": [
            "\n",
            "Iteration 6240/6244 of epoch 16 complete. Loss : 0.19725151425705123 \n"
          ]
        },
        {
          "output_type": "stream",
          "name": "stderr",
          "text": [
            "100%|██████████| 6244/6244 [22:47<00:00,  4.56it/s]\n",
            "100%|██████████| 781/781 [01:03<00:00, 12.25it/s]\n",
            "  0%|          | 0/6244 [00:00<?, ?it/s]"
          ]
        },
        {
          "output_type": "stream",
          "name": "stdout",
          "text": [
            "\n",
            "Epoch 16 complete! Validation Loss : 0.4013128274343383\n"
          ]
        },
        {
          "output_type": "stream",
          "name": "stderr",
          "text": [
            " 10%|▉         | 624/6244 [02:16<20:33,  4.55it/s]"
          ]
        },
        {
          "output_type": "stream",
          "name": "stdout",
          "text": [
            "\n",
            "Iteration 624/6244 of epoch 17 complete. Loss : 0.19455033701916152 \n"
          ]
        },
        {
          "output_type": "stream",
          "name": "stderr",
          "text": [
            " 20%|█▉        | 1248/6244 [04:33<18:18,  4.55it/s]"
          ]
        },
        {
          "output_type": "stream",
          "name": "stdout",
          "text": [
            "\n",
            "Iteration 1248/6244 of epoch 17 complete. Loss : 0.19855695134267592 \n"
          ]
        },
        {
          "output_type": "stream",
          "name": "stderr",
          "text": [
            " 30%|██▉       | 1872/6244 [06:50<15:56,  4.57it/s]"
          ]
        },
        {
          "output_type": "stream",
          "name": "stdout",
          "text": [
            "\n",
            "Iteration 1872/6244 of epoch 17 complete. Loss : 0.19695059122899786 \n"
          ]
        },
        {
          "output_type": "stream",
          "name": "stderr",
          "text": [
            " 40%|███▉      | 2496/6244 [09:07<13:41,  4.56it/s]"
          ]
        },
        {
          "output_type": "stream",
          "name": "stdout",
          "text": [
            "\n",
            "Iteration 2496/6244 of epoch 17 complete. Loss : 0.19675299262580198 \n"
          ]
        },
        {
          "output_type": "stream",
          "name": "stderr",
          "text": [
            " 50%|████▉     | 3120/6244 [11:23<11:27,  4.54it/s]"
          ]
        },
        {
          "output_type": "stream",
          "name": "stdout",
          "text": [
            "\n",
            "Iteration 3120/6244 of epoch 17 complete. Loss : 0.1977698747188044 \n"
          ]
        },
        {
          "output_type": "stream",
          "name": "stderr",
          "text": [
            " 60%|█████▉    | 3744/6244 [13:40<09:07,  4.56it/s]"
          ]
        },
        {
          "output_type": "stream",
          "name": "stdout",
          "text": [
            "\n",
            "Iteration 3744/6244 of epoch 17 complete. Loss : 0.19772311928085026 \n"
          ]
        },
        {
          "output_type": "stream",
          "name": "stderr",
          "text": [
            " 70%|██████▉   | 4368/6244 [15:57<06:51,  4.55it/s]"
          ]
        },
        {
          "output_type": "stream",
          "name": "stdout",
          "text": [
            "\n",
            "Iteration 4368/6244 of epoch 17 complete. Loss : 0.19638714521454695 \n"
          ]
        },
        {
          "output_type": "stream",
          "name": "stderr",
          "text": [
            " 80%|███████▉  | 4992/6244 [18:13<04:34,  4.56it/s]"
          ]
        },
        {
          "output_type": "stream",
          "name": "stdout",
          "text": [
            "\n",
            "Iteration 4992/6244 of epoch 17 complete. Loss : 0.196856649664159 \n"
          ]
        },
        {
          "output_type": "stream",
          "name": "stderr",
          "text": [
            " 90%|████████▉ | 5616/6244 [20:30<02:17,  4.57it/s]"
          ]
        },
        {
          "output_type": "stream",
          "name": "stdout",
          "text": [
            "\n",
            "Iteration 5616/6244 of epoch 17 complete. Loss : 0.19694695841425505 \n"
          ]
        },
        {
          "output_type": "stream",
          "name": "stderr",
          "text": [
            "100%|█████████▉| 6240/6244 [22:47<00:00,  4.56it/s]"
          ]
        },
        {
          "output_type": "stream",
          "name": "stdout",
          "text": [
            "\n",
            "Iteration 6240/6244 of epoch 17 complete. Loss : 0.19547124536564717 \n"
          ]
        },
        {
          "output_type": "stream",
          "name": "stderr",
          "text": [
            "100%|██████████| 6244/6244 [22:48<00:00,  4.56it/s]\n",
            "100%|██████████| 781/781 [01:03<00:00, 12.25it/s]\n",
            "  0%|          | 0/6244 [00:00<?, ?it/s]"
          ]
        },
        {
          "output_type": "stream",
          "name": "stdout",
          "text": [
            "\n",
            "Epoch 17 complete! Validation Loss : 0.40417169154682475\n"
          ]
        },
        {
          "output_type": "stream",
          "name": "stderr",
          "text": [
            " 10%|▉         | 624/6244 [02:16<20:32,  4.56it/s]"
          ]
        },
        {
          "output_type": "stream",
          "name": "stdout",
          "text": [
            "\n",
            "Iteration 624/6244 of epoch 18 complete. Loss : 0.1925560164695176 \n"
          ]
        },
        {
          "output_type": "stream",
          "name": "stderr",
          "text": [
            " 20%|█▉        | 1248/6244 [04:33<18:14,  4.57it/s]"
          ]
        },
        {
          "output_type": "stream",
          "name": "stdout",
          "text": [
            "\n",
            "Iteration 1248/6244 of epoch 18 complete. Loss : 0.19652252232369322 \n"
          ]
        },
        {
          "output_type": "stream",
          "name": "stderr",
          "text": [
            " 30%|██▉       | 1872/6244 [06:50<16:02,  4.54it/s]"
          ]
        },
        {
          "output_type": "stream",
          "name": "stdout",
          "text": [
            "\n",
            "Iteration 1872/6244 of epoch 18 complete. Loss : 0.19616784406109497 \n"
          ]
        },
        {
          "output_type": "stream",
          "name": "stderr",
          "text": [
            " 40%|███▉      | 2496/6244 [09:06<13:42,  4.56it/s]"
          ]
        },
        {
          "output_type": "stream",
          "name": "stdout",
          "text": [
            "\n",
            "Iteration 2496/6244 of epoch 18 complete. Loss : 0.19476521466500485 \n"
          ]
        },
        {
          "output_type": "stream",
          "name": "stderr",
          "text": [
            " 50%|████▉     | 3120/6244 [11:23<11:26,  4.55it/s]"
          ]
        },
        {
          "output_type": "stream",
          "name": "stdout",
          "text": [
            "\n",
            "Iteration 3120/6244 of epoch 18 complete. Loss : 0.19634318535622114 \n"
          ]
        },
        {
          "output_type": "stream",
          "name": "stderr",
          "text": [
            " 60%|█████▉    | 3744/6244 [13:40<09:08,  4.56it/s]"
          ]
        },
        {
          "output_type": "stream",
          "name": "stdout",
          "text": [
            "\n",
            "Iteration 3744/6244 of epoch 18 complete. Loss : 0.19625875147250602 \n"
          ]
        },
        {
          "output_type": "stream",
          "name": "stderr",
          "text": [
            " 70%|██████▉   | 4368/6244 [15:56<06:50,  4.57it/s]"
          ]
        },
        {
          "output_type": "stream",
          "name": "stdout",
          "text": [
            "\n",
            "Iteration 4368/6244 of epoch 18 complete. Loss : 0.19443009646895987 \n"
          ]
        },
        {
          "output_type": "stream",
          "name": "stderr",
          "text": [
            " 80%|███████▉  | 4992/6244 [18:13<04:34,  4.55it/s]"
          ]
        },
        {
          "output_type": "stream",
          "name": "stdout",
          "text": [
            "\n",
            "Iteration 4992/6244 of epoch 18 complete. Loss : 0.1952331873277823 \n"
          ]
        },
        {
          "output_type": "stream",
          "name": "stderr",
          "text": [
            " 90%|████████▉ | 5616/6244 [20:30<02:17,  4.56it/s]"
          ]
        },
        {
          "output_type": "stream",
          "name": "stdout",
          "text": [
            "\n",
            "Iteration 5616/6244 of epoch 18 complete. Loss : 0.1956312846010312 \n"
          ]
        },
        {
          "output_type": "stream",
          "name": "stderr",
          "text": [
            "100%|█████████▉| 6240/6244 [22:46<00:00,  4.55it/s]"
          ]
        },
        {
          "output_type": "stream",
          "name": "stdout",
          "text": [
            "\n",
            "Iteration 6240/6244 of epoch 18 complete. Loss : 0.19423014597776225 \n"
          ]
        },
        {
          "output_type": "stream",
          "name": "stderr",
          "text": [
            "100%|██████████| 6244/6244 [22:47<00:00,  4.56it/s]\n",
            "100%|██████████| 781/781 [01:03<00:00, 12.23it/s]\n",
            "  0%|          | 0/6244 [00:00<?, ?it/s]"
          ]
        },
        {
          "output_type": "stream",
          "name": "stdout",
          "text": [
            "\n",
            "Epoch 18 complete! Validation Loss : 0.4096767829490227\n"
          ]
        },
        {
          "output_type": "stream",
          "name": "stderr",
          "text": [
            " 10%|▉         | 624/6244 [02:16<20:36,  4.54it/s]"
          ]
        },
        {
          "output_type": "stream",
          "name": "stdout",
          "text": [
            "\n",
            "Iteration 624/6244 of epoch 19 complete. Loss : 0.19158181570804653 \n"
          ]
        },
        {
          "output_type": "stream",
          "name": "stderr",
          "text": [
            " 20%|█▉        | 1248/6244 [04:33<18:16,  4.55it/s]"
          ]
        },
        {
          "output_type": "stream",
          "name": "stdout",
          "text": [
            "\n",
            "Iteration 1248/6244 of epoch 19 complete. Loss : 0.19518156469059297 \n"
          ]
        },
        {
          "output_type": "stream",
          "name": "stderr",
          "text": [
            " 30%|██▉       | 1872/6244 [06:50<15:59,  4.56it/s]"
          ]
        },
        {
          "output_type": "stream",
          "name": "stdout",
          "text": [
            "\n",
            "Iteration 1872/6244 of epoch 19 complete. Loss : 0.19442229118580237 \n"
          ]
        },
        {
          "output_type": "stream",
          "name": "stderr",
          "text": [
            " 40%|███▉      | 2496/6244 [09:06<13:44,  4.54it/s]"
          ]
        },
        {
          "output_type": "stream",
          "name": "stdout",
          "text": [
            "\n",
            "Iteration 2496/6244 of epoch 19 complete. Loss : 0.19316489496626532 \n"
          ]
        },
        {
          "output_type": "stream",
          "name": "stderr",
          "text": [
            " 50%|████▉     | 3120/6244 [11:23<11:24,  4.56it/s]"
          ]
        },
        {
          "output_type": "stream",
          "name": "stdout",
          "text": [
            "\n",
            "Iteration 3120/6244 of epoch 19 complete. Loss : 0.1949801552348221 \n"
          ]
        },
        {
          "output_type": "stream",
          "name": "stderr",
          "text": [
            " 60%|█████▉    | 3744/6244 [13:40<09:07,  4.57it/s]"
          ]
        },
        {
          "output_type": "stream",
          "name": "stdout",
          "text": [
            "\n",
            "Iteration 3744/6244 of epoch 19 complete. Loss : 0.19508305145427585 \n"
          ]
        },
        {
          "output_type": "stream",
          "name": "stderr",
          "text": [
            " 70%|██████▉   | 4368/6244 [15:57<06:52,  4.54it/s]"
          ]
        },
        {
          "output_type": "stream",
          "name": "stdout",
          "text": [
            "\n",
            "Iteration 4368/6244 of epoch 19 complete. Loss : 0.1929661033149713 \n"
          ]
        },
        {
          "output_type": "stream",
          "name": "stderr",
          "text": [
            " 80%|███████▉  | 4992/6244 [18:13<04:35,  4.54it/s]"
          ]
        },
        {
          "output_type": "stream",
          "name": "stdout",
          "text": [
            "\n",
            "Iteration 4992/6244 of epoch 19 complete. Loss : 0.19326173105778602 \n"
          ]
        },
        {
          "output_type": "stream",
          "name": "stderr",
          "text": [
            " 90%|████████▉ | 5616/6244 [20:30<02:18,  4.54it/s]"
          ]
        },
        {
          "output_type": "stream",
          "name": "stdout",
          "text": [
            "\n",
            "Iteration 5616/6244 of epoch 19 complete. Loss : 0.1935531156233106 \n"
          ]
        },
        {
          "output_type": "stream",
          "name": "stderr",
          "text": [
            "100%|█████████▉| 6240/6244 [22:47<00:00,  4.55it/s]"
          ]
        },
        {
          "output_type": "stream",
          "name": "stdout",
          "text": [
            "\n",
            "Iteration 6240/6244 of epoch 19 complete. Loss : 0.1914455391203937 \n"
          ]
        },
        {
          "output_type": "stream",
          "name": "stderr",
          "text": [
            "100%|██████████| 6244/6244 [22:48<00:00,  4.56it/s]\n",
            "100%|██████████| 781/781 [01:03<00:00, 12.25it/s]\n",
            "  0%|          | 0/6244 [00:00<?, ?it/s]"
          ]
        },
        {
          "output_type": "stream",
          "name": "stdout",
          "text": [
            "\n",
            "Epoch 19 complete! Validation Loss : 0.4149071317018223\n"
          ]
        },
        {
          "output_type": "stream",
          "name": "stderr",
          "text": [
            " 10%|▉         | 624/6244 [02:16<20:31,  4.56it/s]"
          ]
        },
        {
          "output_type": "stream",
          "name": "stdout",
          "text": [
            "\n",
            "Iteration 624/6244 of epoch 20 complete. Loss : 0.1894017465484257 \n"
          ]
        },
        {
          "output_type": "stream",
          "name": "stderr",
          "text": [
            " 20%|█▉        | 1248/6244 [04:33<18:15,  4.56it/s]"
          ]
        },
        {
          "output_type": "stream",
          "name": "stdout",
          "text": [
            "\n",
            "Iteration 1248/6244 of epoch 20 complete. Loss : 0.19288152209124887 \n"
          ]
        },
        {
          "output_type": "stream",
          "name": "stderr",
          "text": [
            " 30%|██▉       | 1872/6244 [06:50<15:58,  4.56it/s]"
          ]
        },
        {
          "output_type": "stream",
          "name": "stdout",
          "text": [
            "\n",
            "Iteration 1872/6244 of epoch 20 complete. Loss : 0.1929334621064556 \n"
          ]
        },
        {
          "output_type": "stream",
          "name": "stderr",
          "text": [
            " 40%|███▉      | 2496/6244 [09:06<13:42,  4.56it/s]"
          ]
        },
        {
          "output_type": "stream",
          "name": "stdout",
          "text": [
            "\n",
            "Iteration 2496/6244 of epoch 20 complete. Loss : 0.1909847928521534 \n"
          ]
        },
        {
          "output_type": "stream",
          "name": "stderr",
          "text": [
            " 50%|████▉     | 3120/6244 [11:23<11:25,  4.56it/s]"
          ]
        },
        {
          "output_type": "stream",
          "name": "stdout",
          "text": [
            "\n",
            "Iteration 3120/6244 of epoch 20 complete. Loss : 0.19252657688533267 \n"
          ]
        },
        {
          "output_type": "stream",
          "name": "stderr",
          "text": [
            " 60%|█████▉    | 3744/6244 [13:40<09:07,  4.56it/s]"
          ]
        },
        {
          "output_type": "stream",
          "name": "stdout",
          "text": [
            "\n",
            "Iteration 3744/6244 of epoch 20 complete. Loss : 0.1929190503910948 \n"
          ]
        },
        {
          "output_type": "stream",
          "name": "stderr",
          "text": [
            " 70%|██████▉   | 4368/6244 [15:57<06:51,  4.56it/s]"
          ]
        },
        {
          "output_type": "stream",
          "name": "stdout",
          "text": [
            "\n",
            "Iteration 4368/6244 of epoch 20 complete. Loss : 0.19081927890865466 \n"
          ]
        },
        {
          "output_type": "stream",
          "name": "stderr",
          "text": [
            " 80%|███████▉  | 4992/6244 [18:13<04:34,  4.56it/s]"
          ]
        },
        {
          "output_type": "stream",
          "name": "stdout",
          "text": [
            "\n",
            "Iteration 4992/6244 of epoch 20 complete. Loss : 0.19087189014475697 \n"
          ]
        },
        {
          "output_type": "stream",
          "name": "stderr",
          "text": [
            " 90%|████████▉ | 5616/6244 [20:30<02:17,  4.56it/s]"
          ]
        },
        {
          "output_type": "stream",
          "name": "stdout",
          "text": [
            "\n",
            "Iteration 5616/6244 of epoch 20 complete. Loss : 0.1904088930489543 \n"
          ]
        },
        {
          "output_type": "stream",
          "name": "stderr",
          "text": [
            "100%|█████████▉| 6240/6244 [22:47<00:00,  4.55it/s]"
          ]
        },
        {
          "output_type": "stream",
          "name": "stdout",
          "text": [
            "\n",
            "Iteration 6240/6244 of epoch 20 complete. Loss : 0.18800144887362152 \n"
          ]
        },
        {
          "output_type": "stream",
          "name": "stderr",
          "text": [
            "100%|██████████| 6244/6244 [22:48<00:00,  4.56it/s]\n",
            "100%|██████████| 781/781 [01:03<00:00, 12.25it/s]\n"
          ]
        },
        {
          "output_type": "stream",
          "name": "stdout",
          "text": [
            "\n",
            "Epoch 20 complete! Validation Loss : 0.4195267601408513\n",
            "The model has been saved in models/albertLarge8.pt\n"
          ]
        }
      ],
      "metadata": {
        "id": "VZWGPomoryxy",
        "colab": {
          "base_uri": "https://localhost:8080/"
        },
        "outputId": "c1feb264-b731-45f1-f1ee-da6bdc0a1bf0"
      }
    },
    {
      "cell_type": "code",
      "execution_count": null,
      "source": [
        "#!kill -9 -1 #in case you have to kill the process"
      ],
      "outputs": [],
      "metadata": {
        "id": "qZXAwn0zqTuc"
      }
    },
    {
      "cell_type": "markdown",
      "source": [
        "## Prediction"
      ],
      "metadata": {
        "id": "nDBtVu7JSbUK"
      }
    },
    {
      "cell_type": "code",
      "execution_count": null,
      "source": [
        "def get_probs_from_logits(logits):\r\n",
        "    \"\"\"\r\n",
        "    Converts a tensor of logits into an array of probabilities by applying the sigmoid function\r\n",
        "    \"\"\"\r\n",
        "    probs = torch.sigmoid(logits.unsqueeze(-1))\r\n",
        "    return probs.detach().cpu().numpy()\r\n",
        "\r\n",
        "\r\n",
        "def test_prediction(net, device, aptamerDataFrame, dataloader, with_labels, result_path=config['Random']['path_to_model_evaluation']):\r\n",
        "    \"\"\"\r\n",
        "    Predict the probabilities on a dataset with or without labels and print the result in a file\r\n",
        "    \"\"\"\r\n",
        "    net.eval()\r\n",
        "    probs_all = []\r\n",
        "    nb_iterations = len(dataloader)\r\n",
        "    \r\n",
        "    with torch.no_grad():\r\n",
        "        if with_labels:\r\n",
        "            for it, (seq, attn_masks, token_type_ids) in tqdm(enumerate(dataloader), total = nb_iterations):\r\n",
        "                seq, attn_masks, token_type_ids = seq.to(device), attn_masks.to(device), token_type_ids.to(device)\r\n",
        "                logits = net(seq, attn_masks, token_type_ids)\r\n",
        "                probs = get_probs_from_logits(logits.squeeze(-1)).squeeze(-1)\r\n",
        "                probs_all += probs.tolist()\r\n",
        "                \r\n",
        "        else:\r\n",
        "            for it, (seq, attn_masks, token_type_ids) in tqdm(enumerate(dataloader), total=nb_iterations):\r\n",
        "                seq, attn_masks, token_type_ids = seq.to(device), attn_masks.to(device), token_type_ids.to(device)\r\n",
        "                logits = net(seq, attn_masks, token_type_ids)\r\n",
        "                probs = get_probs_from_logits(logits.squeeze(-1)).squeeze(-1)\r\n",
        "                probs_all += probs.tolist()\r\n",
        "            \r\n",
        "    y_hat = [round(x) for x in probs_all]     \r\n",
        "    df2 = pd.DataFrame({'y_hat': y_hat, 'prob': probs_all})\r\n",
        "    df = pd.concat([aptamerDataFrame, df2], axis=1)\r\n",
        "    df.to_csv(result_path)\r\n"
      ],
      "outputs": [],
      "metadata": {
        "id": "m3r8_npVf30D"
      }
    },
    {
      "cell_type": "code",
      "execution_count": null,
      "source": [
        "print(\"Reading test data...\")\r\n",
        "test_set = CustomDataset(df_test, maxlen, bert_model)\r\n",
        "test_loader = DataLoader(test_set, batch_size=bs, num_workers=4)\r\n",
        "\r\n",
        "model = Model(bert_model)\r\n",
        "if torch.cuda.device_count() > 1:  # if multiple GPUs\r\n",
        "    print(\"Let's use\", torch.cuda.device_count(), \"GPUs!\")\r\n",
        "    model = nn.DataParallel(model)\r\n",
        "\r\n",
        "print()\r\n",
        "print(\"Loading the weights of the model...\")\r\n",
        "model.load_state_dict(torch.load(path_to_model))\r\n",
        "model.to(device)\r\n",
        "\r\n",
        "print(\"Predicting on test data...\")\r\n",
        "test_prediction(net=model\r\n",
        "                , device=device\r\n",
        "                , dataloader=test_loader\r\n",
        "                , aptamerDataFrame=df_train)\r\n",
        "\r\n",
        "print()\r\n",
        "print(\"Predictions are available in : {}\".format(config['Random']['path_to_model_evaluation']))"
      ],
      "outputs": [
        {
          "output_type": "stream",
          "name": "stdout",
          "text": [
            "Reading test data...\n"
          ]
        },
        {
          "output_type": "stream",
          "name": "stderr",
          "text": [
            "/usr/local/lib/python3.7/dist-packages/torch/utils/data/dataloader.py:481: UserWarning: This DataLoader will create 5 worker processes in total. Our suggested max number of worker in current system is 4, which is smaller than what this DataLoader is going to create. Please be aware that excessive worker creation might get DataLoader running slow or even freeze, lower the worker number to avoid potential slowness/freeze if necessary.\n",
            "  cpuset_checked))\n",
            "  0%|          | 0/781 [00:00<?, ?it/s]"
          ]
        },
        {
          "output_type": "stream",
          "name": "stdout",
          "text": [
            "\n",
            "Loading the weights of the model...\n",
            "Predicting on test data...\n"
          ]
        },
        {
          "output_type": "stream",
          "name": "stderr",
          "text": [
            "100%|██████████| 781/781 [01:03<00:00, 12.25it/s]\n"
          ]
        },
        {
          "output_type": "stream",
          "name": "stdout",
          "text": [
            "\n",
            "Predictions are available in : results/output.txt\n"
          ]
        }
      ],
      "metadata": {
        "id": "xWoWiw6MlPm-",
        "colab": {
          "base_uri": "https://localhost:8080/"
        },
        "outputId": "8c05684c-56ff-4d21-8150-d7c8bc9ce551"
      }
    },
    {
      "cell_type": "markdown",
      "source": [
        "#  Model Metrics"
      ],
      "metadata": {}
    },
    {
      "cell_type": "code",
      "execution_count": null,
      "source": [
        "from sklearn.metrics import accuracy_score\r\n",
        "from sklearn.metrics import precision_score\r\n",
        "from sklearn.metrics import recall_score\r\n",
        "from sklearn.metrics import f1_score\r\n",
        "from sklearn.metrics import cohen_kappa_score\r\n",
        "from sklearn.metrics import roc_auc_score\r\n",
        "from sklearn.metrics import confusion_matrix"
      ],
      "outputs": [],
      "metadata": {}
    },
    {
      "cell_type": "code",
      "execution_count": null,
      "source": [
        "df = pd.read_csv(config['Random']['path_to_model_evaluation'])\r\n",
        "\r\n",
        "accuracy = accuracy_score(df['Label'], df['y_hat'])\r\n",
        "precision = precision_score(df['Label'], df['y_hat'])\r\n",
        "recall = recall_score(df['Label'], df['y_hat'])\r\n",
        "f1 = f1_score(df['Label'], df['y_hat'])\r\n",
        "roc_auc = roc_auc_score(df['Label'], df['prob'])\r\n",
        "matrix = confusion_matrix(df['Label'], df['y_hat'])\r\n",
        "\r\n",
        "print('accuracy: ', accuracy)\r\n",
        "print('precision: ', precision)\r\n",
        "print('recall: ', recall)\r\n",
        "print('f1: ', f1)\r\n",
        "print('roc_auc: ', roc_auc)\r\n",
        "print('matrix: \\n', matrix)"
      ],
      "outputs": [],
      "metadata": {}
    },
    {
      "cell_type": "code",
      "execution_count": null,
      "source": [
        "import matplotlib.pyplot as plt\r\n",
        "from sklearn.metrics import auc, roc_curve\r\n",
        "\r\n",
        "fpr,tpr,threshold = roc_curve(df['Label'], df['prob'])\r\n",
        "roc_auc =auc(fpr, tpr)\r\n",
        "\r\n",
        "plt.plot(fpr, tpr, label='ROC curve')\r\n",
        "plt.plot([0,1],[0,1], 'k--')\r\n",
        "plt.xlabel('False Positive Rate or (1 - Specifity)')\r\n",
        "plt.ylabel('True Positive Rate or (Sensitivity)')\r\n",
        "plt.legend(loc='lower right')"
      ],
      "outputs": [],
      "metadata": {}
    },
    {
      "cell_type": "markdown",
      "source": [
        "#  Convert model to ONNX\r\n"
      ],
      "metadata": {}
    },
    {
      "cell_type": "code",
      "execution_count": null,
      "source": [
        "if config['Model']['convert_to_onnx']:\r\n",
        "    sequences = {'AGCTAAGCTAAGCTA':'AAGACTGACAGCTAA'}\r\n",
        "    sequences=pd.DataFrame(sequences.items(), columns=['Sequence1', 'Sequence2'])\r\n",
        "    dataset = CustomDataset(\r\n",
        "        data = sequences,\r\n",
        "        maxlen = maxlen,\r\n",
        "        with_labels = False #sulyginti su class cusotmedatasets\r\n",
        "        )\r\n",
        "    model = Model(bert_model)\r\n",
        "    #model = nn.DataParallel(model)\r\n",
        "    model.load_state_dict(torch.load(path_to_model))\r\n",
        "    model.to(device)\r\n",
        "    model.eval()\r\n",
        "\r\n",
        "    #defining model inputs, which are ids, kmask and toke type ids (it comes from Model Class)\r\n",
        "    input_ids= dataset[0]['token_ids'].unsqueeze(0).cuda()\r\n",
        "    attn_masks = dataset[0]['attn_masks'].unsqueeze(0).cuda()\r\n",
        "    token_type_ids = dataset[0]['token_type_ids'].unsqueeze(0).cuda()\r\n",
        "        \r\n",
        "    torch.onnx.export(\r\n",
        "        model, #.module if paralized\r\n",
        "        (input_ids, attn_masks, token_type_ids),\r\n",
        "        \"model.onnx\",\r\n",
        "        input_names=[\"input_ids\", \"attn_masks\", \"token_type_ids\"], \r\n",
        "        output_names=[\"output\"],\r\n",
        "        #which inputs have dynamical axes\r\n",
        "        verbose=True,\r\n",
        "        dynamic_axes={\r\n",
        "            \"input_ids\": {0: \"batch_size\"},\r\n",
        "            \"attn_masks\": {0: \"batch_size\"},\r\n",
        "            \"token_type_ids\": {0: \"batch_size\"},\r\n",
        "            \"output\": {0: \"batch_size\"},\r\n",
        "        },\r\n",
        "        opset_version=10,\r\n",
        "        )"
      ],
      "outputs": [],
      "metadata": {}
    }
  ]
}