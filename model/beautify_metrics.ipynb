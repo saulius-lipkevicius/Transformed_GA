{
 "cells": [
  {
   "cell_type": "code",
   "execution_count": null,
   "source": [
    "from sklearn.metrics import accuracy_score\r\n",
    "from sklearn.metrics import precision_score\r\n",
    "from sklearn.metrics import recall_score\r\n",
    "from sklearn.metrics import f1_score\r\n",
    "from sklearn.metrics import cohen_kappa_score\r\n",
    "from sklearn.metrics import roc_auc_score\r\n",
    "from sklearn.metrics import confusion_matrix\r\n",
    "import seaborn as sns\r\n",
    "\r\n",
    "config_name = 'config.yaml'"
   ],
   "outputs": [],
   "metadata": {}
  },
  {
   "cell_type": "code",
   "execution_count": null,
   "source": [
    "with open(config_name, 'r') as stream:\r\n",
    "    try:\r\n",
    "        yaml = ruamel.yaml.YAML()\r\n",
    "        config = yaml.load(stream)\r\n",
    "    except yaml.YAMLError as exc:\r\n",
    "        print(exc)"
   ],
   "outputs": [],
   "metadata": {}
  },
  {
   "cell_type": "code",
   "execution_count": null,
   "source": [
    "df = pd.read_csv(config['Random']['path_to_model_test'])\r\n",
    "\r\n",
    "accuracy = accuracy_score(df['Label'], df['y_hat'])\r\n",
    "precision = precision_score(df['Label'], df['y_hat'])\r\n",
    "recall = recall_score(df['Label'], df['y_hat'])\r\n",
    "f1 = f1_score(df['Label'], df['y_hat'])\r\n",
    "roc_auc = roc_auc_score(df['Label'], df['prob'])\r\n",
    "cf_matrix = confusion_matrix(df['Label'], df['y_hat'])\r\n",
    "\r\n",
    "print('accuracy: ', accuracy)\r\n",
    "print('precision: ', precision)\r\n",
    "print('recall: ', recall)\r\n",
    "print('f1: ', f1)\r\n",
    "print('roc_auc: ', roc_auc)\r\n",
    "print('matrix: \\n', cf_matrix)"
   ],
   "outputs": [],
   "metadata": {}
  },
  {
   "cell_type": "code",
   "execution_count": null,
   "source": [
    "colors = ['#002733', '#054d54', '#1b8489', '#ef9f8d', '#fccec0']"
   ],
   "outputs": [],
   "metadata": {}
  },
  {
   "cell_type": "code",
   "execution_count": null,
   "source": [
    "labels = [‘True Neg’,’False Pos’,’False Neg’,’True Pos’]\r\n",
    "categories = [‘0’, ‘1’]\r\n",
    "make_confusion_matrix(cf_matrix, \r\n",
    "                      group_names=labels,\r\n",
    "                      categories=categories, \r\n",
    "                      cmap=’binary’)"
   ],
   "outputs": [],
   "metadata": {}
  }
 ],
 "metadata": {
  "orig_nbformat": 4,
  "language_info": {
   "name": "python"
  }
 },
 "nbformat": 4,
 "nbformat_minor": 2
}