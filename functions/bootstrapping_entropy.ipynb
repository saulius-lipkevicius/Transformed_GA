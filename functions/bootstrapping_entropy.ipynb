{
 "cells": [
  {
   "cell_type": "markdown",
   "source": [
    "Applying MCMC algorithm to generate and analyse bivariate distribution of ALBUMIN EhPPDK variables"
   ],
   "metadata": {}
  },
  {
   "cell_type": "code",
   "execution_count": null,
   "source": [],
   "outputs": [],
   "metadata": {}
  },
  {
   "cell_type": "code",
   "execution_count": null,
   "source": [],
   "outputs": [],
   "metadata": {}
  },
  {
   "cell_type": "markdown",
   "source": [
    "Boostrap for the win - calculating estimates"
   ],
   "metadata": {}
  }
 ],
 "metadata": {
  "orig_nbformat": 4,
  "language_info": {
   "name": "python"
  }
 },
 "nbformat": 4,
 "nbformat_minor": 2
}